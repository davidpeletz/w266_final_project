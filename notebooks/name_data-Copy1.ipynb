{
  "nbformat": 4,
  "nbformat_minor": 5,
  "metadata": {
    "kernelspec": {
      "display_name": "Python 3 (ipykernel)",
      "language": "python",
      "name": "python3"
    },
    "language_info": {
      "codemirror_mode": {
        "name": "ipython",
        "version": 3
      },
      "file_extension": ".py",
      "mimetype": "text/x-python",
      "name": "python",
      "nbconvert_exporter": "python",
      "pygments_lexer": "ipython3",
      "version": "3.8.0"
    },
    "colab": {
      "name": "name_data-Copy1.ipynb",
      "provenance": []
    }
  },
  "cells": [
    {
      "cell_type": "code",
      "metadata": {
        "id": "34995b2a",
        "outputId": "35106ff8-6dc4-4d2b-95e3-351168f3c0ac",
        "colab": {
          "resources": {
            "http://localhost:8080/nbextensions/google.colab/files.js": {
              "data": "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",
              "ok": true,
              "headers": [
                [
                  "content-type",
                  "application/javascript"
                ]
              ],
              "status": 200,
              "status_text": ""
            }
          },
          "base_uri": "https://localhost:8080/",
          "height": 72
        }
      },
      "source": [
        "from google.colab import files\n",
        "import pandas as pd\n",
        "import io\n",
        "uploaded = files.upload()\n"
      ],
      "id": "34995b2a",
      "execution_count": 3,
      "outputs": [
        {
          "output_type": "display_data",
          "data": {
            "text/html": [
              "\n",
              "     <input type=\"file\" id=\"files-ab848274-2a06-4a26-b203-17d823e081a4\" name=\"files[]\" multiple disabled\n",
              "        style=\"border:none\" />\n",
              "     <output id=\"result-ab848274-2a06-4a26-b203-17d823e081a4\">\n",
              "      Upload widget is only available when the cell has been executed in the\n",
              "      current browser session. Please rerun this cell to enable.\n",
              "      </output>\n",
              "      <script src=\"/nbextensions/google.colab/files.js\"></script> "
            ],
            "text/plain": [
              "<IPython.core.display.HTML object>"
            ]
          },
          "metadata": {}
        },
        {
          "output_type": "stream",
          "name": "stdout",
          "text": [
            "Saving processed_df.csv to processed_df.csv\n"
          ]
        }
      ]
    },
    {
      "cell_type": "code",
      "metadata": {
        "id": "MWYte_DUpL0Y",
        "outputId": "25eb878d-564c-4ea1-b660-344dba8e5909",
        "colab": {
          "base_uri": "https://localhost:8080/",
          "height": 419
        }
      },
      "source": [
        "df = pd.read_csv(io.BytesIO(uploaded['processed_df.csv']), index_col=0)\n",
        "df"
      ],
      "id": "MWYte_DUpL0Y",
      "execution_count": 4,
      "outputs": [
        {
          "output_type": "execute_result",
          "data": {
            "text/html": [
              "<div>\n",
              "<style scoped>\n",
              "    .dataframe tbody tr th:only-of-type {\n",
              "        vertical-align: middle;\n",
              "    }\n",
              "\n",
              "    .dataframe tbody tr th {\n",
              "        vertical-align: top;\n",
              "    }\n",
              "\n",
              "    .dataframe thead th {\n",
              "        text-align: right;\n",
              "    }\n",
              "</style>\n",
              "<table border=\"1\" class=\"dataframe\">\n",
              "  <thead>\n",
              "    <tr style=\"text-align: right;\">\n",
              "      <th></th>\n",
              "      <th>Name</th>\n",
              "      <th>Race</th>\n",
              "    </tr>\n",
              "  </thead>\n",
              "  <tbody>\n",
              "    <tr>\n",
              "      <th>0</th>\n",
              "      <td>Scott</td>\n",
              "      <td>White</td>\n",
              "    </tr>\n",
              "    <tr>\n",
              "      <th>1</th>\n",
              "      <td>Kathleen</td>\n",
              "      <td>White</td>\n",
              "    </tr>\n",
              "    <tr>\n",
              "      <th>2</th>\n",
              "      <td>Matthew</td>\n",
              "      <td>White</td>\n",
              "    </tr>\n",
              "    <tr>\n",
              "      <th>3</th>\n",
              "      <td>Jeffrey</td>\n",
              "      <td>White</td>\n",
              "    </tr>\n",
              "    <tr>\n",
              "      <th>4</th>\n",
              "      <td>Mark</td>\n",
              "      <td>White</td>\n",
              "    </tr>\n",
              "    <tr>\n",
              "      <th>...</th>\n",
              "      <td>...</td>\n",
              "      <td>...</td>\n",
              "    </tr>\n",
              "    <tr>\n",
              "      <th>8475</th>\n",
              "      <td>Mario Tejeda</td>\n",
              "      <td>Hispanic</td>\n",
              "    </tr>\n",
              "    <tr>\n",
              "      <th>8476</th>\n",
              "      <td>Mario Tavarez</td>\n",
              "      <td>Hispanic</td>\n",
              "    </tr>\n",
              "    <tr>\n",
              "      <th>8477</th>\n",
              "      <td>Mario Taveras</td>\n",
              "      <td>Hispanic</td>\n",
              "    </tr>\n",
              "    <tr>\n",
              "      <th>8478</th>\n",
              "      <td>Mario Villatoro</td>\n",
              "      <td>Hispanic</td>\n",
              "    </tr>\n",
              "    <tr>\n",
              "      <th>8479</th>\n",
              "      <td>Mario Gudino</td>\n",
              "      <td>Hispanic</td>\n",
              "    </tr>\n",
              "  </tbody>\n",
              "</table>\n",
              "<p>8480 rows × 2 columns</p>\n",
              "</div>"
            ],
            "text/plain": [
              "                 Name      Race\n",
              "0               Scott     White\n",
              "1            Kathleen     White\n",
              "2             Matthew     White\n",
              "3             Jeffrey     White\n",
              "4                Mark     White\n",
              "...               ...       ...\n",
              "8475     Mario Tejeda  Hispanic\n",
              "8476    Mario Tavarez  Hispanic\n",
              "8477    Mario Taveras  Hispanic\n",
              "8478  Mario Villatoro  Hispanic\n",
              "8479     Mario Gudino  Hispanic\n",
              "\n",
              "[8480 rows x 2 columns]"
            ]
          },
          "metadata": {},
          "execution_count": 4
        }
      ]
    },
    {
      "cell_type": "code",
      "metadata": {
        "id": "3okTOCvFpjfD"
      },
      "source": [
        ""
      ],
      "id": "3okTOCvFpjfD",
      "execution_count": null,
      "outputs": []
    },
    {
      "cell_type": "code",
      "metadata": {
        "id": "90b7d836"
      },
      "source": [
        "# URL = \"https://namecensus.com/data/black.html\"\n",
        "# r = requests.get(URL)\n",
        "# df_list = pd.read_html(r.text) # this parses all the tables in webpages to a list\n",
        "# black_df = df_list[0]\n",
        "# black_df.columns = black_df.iloc[0]\n",
        "# black_df = black_df.drop(black_df.index[0])\n",
        "# black_df[\"% of people with surname self-identifying as 'black'\"] = black_df[\"% of people with surname self-identifying as 'black'\"].apply(lambda x: float(x[:-1]))\n",
        "# black_df = black_df.sort_values(by=[\"% of people with surname self-identifying as 'black'\", \"Surname rank among blacks\"], ascending=[False, True])\n",
        "# black_df[\"Last name / Surname\"] = black_df[\"Last name / Surname\"].apply(lambda x: str(x).title())\n",
        "\n",
        "# black_df[\"Given Race\"] = \"Black\"\n",
        "# black_df = black_df.rename(columns={\"Number of occurrences among people self-identifying as 'black'\": 'Number of occurences among people self-identifying as given race', \n",
        "#                                       'Surname rank among blacks': 'Surname rank among given race', \n",
        "#                                       \"% of people with surname self-identifying as 'black'\": \"% of people with surname self-identifying as given race\"})\n",
        "\n",
        "\n",
        "# URL = \"https://namecensus.com/data/white.html\"\n",
        "# r = requests.get(URL)\n",
        "# df_list = pd.read_html(r.text) # this parses all the tables in webpages to a list\n",
        "# white_df = df_list[0]\n",
        "# white_df.columns = white_df.iloc[0]\n",
        "# white_df = white_df.drop(white_df.index[0])\n",
        "# white_df[\"Number of occurrences among people self-identifying as \\'white\\'\"] = white_df[\"Number of occurrences among people self-identifying as \\'white\\'\"].apply(lambda x: float(x))\n",
        "# white_df[\"% of people with surname self-identifying as 'white'\"] = white_df[\"% of people with surname self-identifying as 'white'\"].apply(lambda x: float(x[:-1]))\n",
        "# white_df = white_df.sort_values(by=[\"% of people with surname self-identifying as 'white'\", \"Surname rank among whites\"], ascending=[False, True])\n",
        "# white_df[\"Last name / Surname\"] = white_df[\"Last name / Surname\"].apply(lambda x: str(x).title())\n",
        "\n",
        "# white_df[\"Given Race\"] = \"White\"\n",
        "# white_df = white_df.rename(columns={\"Number of occurrences among people self-identifying as 'white'\": 'Number of occurences among people self-identifying as given race', \n",
        "#                                       'Surname rank among whites': 'Surname rank among given race', \n",
        "#                                       \"% of people with surname self-identifying as 'white'\": \"% of people with surname self-identifying as given race\"})\n",
        "\n",
        "\n",
        "# URL = \"https://namecensus.com/data/hispanic.html\"\n",
        "# r = requests.get(URL)\n",
        "# df_list = pd.read_html(r.text) # this parses all the tables in webpages to a list\n",
        "# hispanic_df = df_list[0]\n",
        "# hispanic_df.columns = hispanic_df.iloc[0]\n",
        "# hispanic_df = hispanic_df.drop(hispanic_df.index[0])\n",
        "# hispanic_df[\"Number of occurrences among people self-identifying as \\'Hispanic\\'\"] = hispanic_df[\"Number of occurrences among people self-identifying as \\'Hispanic\\'\"].apply(lambda x: float(x))\n",
        "# hispanic_df[\"% of people with surname self-identifying as 'hispanic'\"] = hispanic_df[\"% of people with surname self-identifying as 'hispanic'\"].apply(lambda x: float(x[:-1]))\n",
        "# hispanic_df = hispanic_df.sort_values(by=[\"% of people with surname self-identifying as 'hispanic'\", \"Surname rank among hispanics\"], ascending=[False, True])\n",
        "# hispanic_df[\"Last name / Surname\"] = hispanic_df[\"Last name / Surname\"].apply(lambda x: str(x).title())\n",
        "\n",
        "# hispanic_df[\"Given Race\"] = \"Hispanic\"\n",
        "# hispanic_df = hispanic_df.rename(columns={\"Number of occurrences among people self-identifying as 'Hispanic'\": 'Number of occurences among people self-identifying as given race', \n",
        "#                                       'Surname rank among hispanics': 'Surname rank among given race', \n",
        "#                                       \"% of people with surname self-identifying as 'hispanic'\": \"% of people with surname self-identifying as given race\"})\n",
        "\n",
        "\n",
        "# URL = \"https://namecensus.com/data/asian_pacific_islander.html\"\n",
        "# r = requests.get(URL)\n",
        "# df_list = pd.read_html(r.text) # this parses all the tables in webpages to a list\n",
        "# aapi_df = df_list[0]\n",
        "# aapi_df.columns = aapi_df.iloc[0]\n",
        "# aapi_df = aapi_df.drop(aapi_df.index[0])\n",
        "# aapi_df[\"Number of occurrences among people self-identifying as Asian & Pacific Islander\"] = aapi_df[\"Number of occurrences among people self-identifying as Asian & Pacific Islander\"].apply(lambda x: float(x))\n",
        "# aapi_df[\"% of people with surname self-identifying as 'Asian & Pacific Islander'\"] = aapi_df[\"% of people with surname self-identifying as 'Asian & Pacific Islander'\"].apply(lambda x: float(x[:-1]))\n",
        "# aapi_df = aapi_df.sort_values(by=[\"% of people with surname self-identifying as 'Asian & Pacific Islander'\", \"Surname rank among Asians & Pacific Islanders\"], ascending=[False, True])\n",
        "# aapi_df[\"Last name / Surname\"] = aapi_df[\"Last name / Surname\"].apply(lambda x: str(x).title())\n",
        "\n",
        "# aapi_df[\"Given Race\"] = \"Asian & Pacific Islander\"\n",
        "# aapi_df = aapi_df.rename(columns={'Number of occurrences among people self-identifying as Asian & Pacific Islander': 'Number of occurences among people self-identifying as given race', \n",
        "#                                       'Surname rank among Asians & Pacific Islanders': 'Surname rank among given race', \n",
        "#                                       \"% of people with surname self-identifying as 'Asian & Pacific Islander'\": \"% of people with surname self-identifying as given race\"})\n",
        "\n",
        "\n",
        "# URL = \"https://namecensus.com/data/indians.html\"\n",
        "# r = requests.get(URL)\n",
        "# df_list = pd.read_html(r.text) # this parses all the tables in webpages to a list\n",
        "# indian_df = df_list[0]\n",
        "# indian_df.columns = indian_df.iloc[0]\n",
        "# indian_df = indian_df.drop(indian_df.index[0])\n",
        "# indian_df[\"Number of occurences among people self-identifying as American Indian & Alaskan Native\"] = indian_df[\"Number of occurences among people self-identifying as American Indian & Alaskan Native\"].apply(lambda x: float(x))\n",
        "# indian_df[\"% of people with surname self-identifying as 'American Indian & Alaskan Native'\"] = indian_df[\"% of people with surname self-identifying as 'American Indian & Alaskan Native'\"].apply(lambda x: float(x[:-1]))\n",
        "# indian_df = indian_df.sort_values(by=[\"% of people with surname self-identifying as 'American Indian & Alaskan Native'\", \"Surname rank among American Indians & Alaskan Natives\"], ascending=[False, True])\n",
        "# indian_df[\"Last name / Surname\"] = indian_df[\"Last name / Surname\"].apply(lambda x: str(x).title())\n",
        "\n",
        "# indian_df[\"Given Race\"] = \"American Indian & Alaskan Native\"\n",
        "# indian_df = indian_df.rename(columns={'Number of occurences among people self-identifying as American Indian & Alaskan Native': 'Number of occurences among people self-identifying as given race', \n",
        "#                                       'Surname rank among American Indians & Alaskan Natives': 'Surname rank among given race', \n",
        "#                                       \"% of people with surname self-identifying as 'American Indian & Alaskan Native'\": \"% of people with surname self-identifying as given race\"})\n",
        "\n",
        "\n",
        "# URL = \"https://namecensus.com/data/two_race.html\"\n",
        "# r = requests.get(URL)\n",
        "# df_list = pd.read_html(r.text) # this parses all the tables in webpages to a list\n",
        "# multi_race_df = df_list[0]\n",
        "# multi_race_df.columns = multi_race_df.iloc[0]\n",
        "# multi_race_df = multi_race_df.drop(multi_race_df.index[0])\n",
        "# multi_race_df[\"2 or More Races\"] = multi_race_df[\"2 or More Races\"].apply(lambda x: float(x))\n",
        "# multi_race_df[\"% of people with surname self-identifying as 'two or more races'\"] = multi_race_df[\"% of people with surname self-identifying as 'two or more races'\"].apply(lambda x: float(x[:-1]))\n",
        "# multi_race_df = multi_race_df.sort_values(by=[\"% of people with surname self-identifying as 'two or more races'\", \"Surname rank among 'two or more races'\"], ascending=[False, True])\n",
        "# multi_race_df[\"Last name / Surname\"] = multi_race_df[\"Last name / Surname\"].apply(lambda x: str(x).title())\n",
        "\n",
        "# multi_race_df[\"Given Race\"] = \"Multi-Race\"\n",
        "# multi_race_df = multi_race_df.rename(columns={'2 or More Races': 'Number of occurences among people self-identifying as given race', \n",
        "#                                       \"Surname rank among 'two or more races'\": 'Surname rank among given race', \n",
        "#                                       \"% of people with surname self-identifying as 'two or more races'\": \"% of people with surname self-identifying as given race\"})\n",
        "\n",
        "\n",
        "# white_df = white_df[:100]\n",
        "# black_df = black_df[:100]\n",
        "# hispanic_df = hispanic_df[:100]\n",
        "# indian_df = indian_df[:100]\n",
        "# aapi_df = aapi_df[:100]\n",
        "# df_list = [white_df, black_df, hispanic_df, indian_df, aapi_df]\n",
        "\n",
        "# whole_last_name_df = pd.concat(df_list).reset_index(drop=True)\n",
        "\n",
        "# whole_last_name_df.to_csv(\"../data/interim/whole_last_name_df.csv\")"
      ],
      "id": "90b7d836",
      "execution_count": 8,
      "outputs": []
    },
    {
      "cell_type": "code",
      "metadata": {
        "id": "5ce9ef80"
      },
      "source": [
        "# first_name_df = pd.read_csv(\"../data/interim/first_name_df.csv\")\n",
        "# last_name_df = pd.read_csv(\"../data/interim/whole_last_name_df.csv\")\n",
        "\n",
        "# first_name_df = first_name_df.drop(columns=[\"Unnamed: 0\"])\n",
        "# last_name_df = last_name_df.drop(columns=[\"Unnamed: 0\"])\n",
        "# first_name_df[\"firstname\"] = first_name_df[\"firstname\"].apply(lambda x: str(x).title())\n",
        "\n",
        "# white_fn = first_name_df.sort_values(by=[\"pctwhite\", \"obs\"], ascending=False).loc[first_name_df[\"obs\"]>10000][:20]\n",
        "# black_fn = first_name_df.sort_values(by=[\"pctblack\", \"obs\"], ascending=False).loc[first_name_df[\"obs\"]>25][:20]\n",
        "# hispanic_fn = first_name_df.sort_values(by=[\"pcthispanic\", \"obs\"], ascending=False).loc[first_name_df[\"obs\"]>1000][:20]\n",
        "# api_fn = first_name_df.sort_values(by=[\"pctapi\", \"obs\"], ascending=False).loc[first_name_df[\"obs\"]>200][:20]\n",
        "\n",
        "# api_fn_list = list(api_fn[\"firstname\"])\n",
        "# hispanic_fn_list = list(hispanic_fn[\"firstname\"])\n",
        "# black_fn_list = list(black_fn[\"firstname\"])\n",
        "# white_fn_list = list(white_fn[\"firstname\"])\n",
        "\n",
        "# white_ln_list = last_name_df.loc[last_name_df[\"Given Race\"]==\"White\"].reset_index(drop=True)[\"Last name / Surname\"]\n",
        "# black_ln_list = last_name_df.loc[last_name_df[\"Given Race\"]==\"Black\"].reset_index(drop=True)[\"Last name / Surname\"]\n",
        "# api_ln_list = last_name_df.loc[last_name_df[\"Given Race\"]==\"Asian & Pacific Islander\"].reset_index(drop=True)[\"Last name / Surname\"]\n",
        "# hispanic_ln_list = last_name_df.loc[last_name_df[\"Given Race\"]==\"Hispanic\"].reset_index(drop=True)[\"Last name / Surname\"]\n",
        "\n",
        "\n",
        "# api_full_names = [i + \" \" + j for i in api_fn_list for j in api_ln_list]\n",
        "# black_full_names = [i + \" \" + j for i in black_fn_list for j in black_ln_list]\n",
        "# white_full_names = [i + \" \" + j for i in white_fn_list for j in white_ln_list]\n",
        "# hispanic_full_names = [i + \" \" + j for i in hispanic_fn_list for j in hispanic_ln_list]\n",
        "\n",
        "# hispanic_first_name_df = pd.DataFrame(hispanic_fn_list, columns=[\"Name\"])\n",
        "# hispanic_first_name_df[\"Race\"] = \"Hispanic\"\n",
        "# hispanic_last_name_df = pd.DataFrame(list(hispanic_ln_list), columns=[\"Name\"])\n",
        "# hispanic_last_name_df[\"Race\"] = \"Hispanic\"\n",
        "# hispanic_df = pd.DataFrame(hispanic_full_names, columns=[\"Name\"])\n",
        "# hispanic_df[\"Race\"] = \"Hispanic\"\n",
        "\n",
        "# black_first_name_df = pd.DataFrame(black_fn_list, columns=[\"Name\"])\n",
        "# black_first_name_df[\"Race\"] = \"Black\"\n",
        "# black_last_name_df = pd.DataFrame(list(black_ln_list), columns=[\"Name\"])\n",
        "# black_last_name_df[\"Race\"] = \"Black\"\n",
        "# black_df = pd.DataFrame(black_full_names, columns=[\"Name\"])\n",
        "# black_df[\"Race\"] = \"Black\"\n",
        "\n",
        "# api_first_name_df = pd.DataFrame(api_fn_list, columns=[\"Name\"])\n",
        "# api_first_name_df[\"Race\"] = \"API\"\n",
        "# api_last_name_df = pd.DataFrame(list(api_ln_list), columns=[\"Name\"])\n",
        "# api_last_name_df[\"Race\"] = \"API\"\n",
        "# api_df = pd.DataFrame(api_full_names, columns=[\"Name\"])\n",
        "# api_df[\"Race\"] = \"API\"\n",
        "\n",
        "# white_first_name_df = pd.DataFrame(white_fn_list, columns=[\"Name\"])\n",
        "# white_first_name_df[\"Race\"] = \"White\"\n",
        "# white_last_name_df = pd.DataFrame(list(white_ln_list), columns=[\"Name\"])\n",
        "# white_last_name_df[\"Race\"] = \"White\"\n",
        "# white_df = pd.DataFrame(white_full_names, columns=[\"Name\"])\n",
        "# white_df[\"Race\"] = \"White\"\n",
        "\n",
        "# whole_df = pd.concat([white_df, white_first_name_df, white_last_name_df, \n",
        "#                       black_df, black_first_name_df, black_last_name_df, \n",
        "#                       api_df, api_first_name_df, api_last_name_df,\n",
        "#                       hispanic_df, hispanic_first_name_df, hispanic_last_name_df])"
      ],
      "id": "5ce9ef80",
      "execution_count": 7,
      "outputs": []
    },
    {
      "cell_type": "code",
      "metadata": {
        "id": "1d9ecf14"
      },
      "source": [
        ""
      ],
      "id": "1d9ecf14",
      "execution_count": 7,
      "outputs": []
    }
  ]
}
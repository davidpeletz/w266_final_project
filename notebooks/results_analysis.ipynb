{
 "cells": [
  {
   "cell_type": "code",
   "execution_count": 1,
   "id": "c6c568d2",
   "metadata": {},
   "outputs": [],
   "source": [
    "import pandas as pd\n",
    "import altair as alt"
   ]
  },
  {
   "cell_type": "code",
   "execution_count": 2,
   "id": "7d87d112",
   "metadata": {},
   "outputs": [],
   "source": [
    "results_df = pd.read_csv(\"../data/interim/results_table.csv\")"
   ]
  },
  {
   "cell_type": "code",
   "execution_count": 3,
   "id": "dfc6ec91",
   "metadata": {},
   "outputs": [],
   "source": [
    "results_df[\"Score: \"] = pd.to_numeric(results_df[\"Score: \"]) \n",
    "results_df = results_df.rename(columns={\"Score: \": 'Score', 'Test Set:': 'Test Set', 'Race:':'Race', \n",
    "                                        \"Model: \":\"Model\", \"Metric:\": \"Metric\"})\n",
    "results_df[\"Metric\"] = results_df[\"Metric\"].apply(lambda x: \"F1 Weighted Average\" if str(x) == \"F1-weighted-avg\"else x)\n",
    "results_df[\"Race\"] = results_df[\"Race\"].apply(lambda x: str(x).title() if str(x) != 'api' else str(x).upper())\n",
    "baseline_results = results_df.loc[(results_df[\"Model\"] == \"LUKE-Baseline\") & (results_df[\"Test Set\"] != \"CoNLL-03 Test\")]\n",
    "custom_results = results_df.loc[(results_df[\"Model\"] == \"LUKE-Custom\") & (results_df[\"Test Set\"] != \"CoNLL-03 Test\")]"
   ]
  },
  {
   "cell_type": "code",
   "execution_count": 5,
   "id": "32b009b2",
   "metadata": {},
   "outputs": [],
   "source": [
    "def plot_breakdown(input_df, title):\n",
    "    groups = [\"Best Performing Race Group\", \"Other 3 Race Groups\"]\n",
    "    scores = [list(input_df.loc[input_df[\"Race\"]==\"White\"][\"Score\"])[0], input_df.loc[input_df[\"Race\"]!=\"White\"][\"Score\"].mean()]\n",
    "    \n",
    "    df = pd.DataFrame(columns=[\"Group\", \"F1 Score\"])\n",
    "    df[\"Mean F1 Score\"] = scores\n",
    "    df[\"Group\"] = groups\n",
    "    \n",
    "    chart = alt.Chart(df).mark_bar().encode(\n",
    "    x=alt.X('Group:O', axis=alt.Axis(labelAngle=0, ticks=False), sort={\"encoding\":\"y\", \"order\":\"descending\"}),\n",
    "    y=alt.Y('Mean F1 Score:Q', axis=alt.Axis(labelAngle=0))\n",
    "    ).properties(width = 300, height = 300, title=title)\n",
    "\n",
    "    return chart"
   ]
  },
  {
   "cell_type": "code",
   "execution_count": 6,
   "id": "cde6629f",
   "metadata": {
    "scrolled": false
   },
   "outputs": [
    {
     "data": {
      "text/html": [
       "\n",
       "<div id=\"altair-viz-49c4180182fa424aaa1575f22e8090a7\"></div>\n",
       "<script type=\"text/javascript\">\n",
       "  (function(spec, embedOpt){\n",
       "    let outputDiv = document.currentScript.previousElementSibling;\n",
       "    if (outputDiv.id !== \"altair-viz-49c4180182fa424aaa1575f22e8090a7\") {\n",
       "      outputDiv = document.getElementById(\"altair-viz-49c4180182fa424aaa1575f22e8090a7\");\n",
       "    }\n",
       "    const paths = {\n",
       "      \"vega\": \"https://cdn.jsdelivr.net/npm//vega@5?noext\",\n",
       "      \"vega-lib\": \"https://cdn.jsdelivr.net/npm//vega-lib?noext\",\n",
       "      \"vega-lite\": \"https://cdn.jsdelivr.net/npm//vega-lite@4.8.1?noext\",\n",
       "      \"vega-embed\": \"https://cdn.jsdelivr.net/npm//vega-embed@6?noext\",\n",
       "    };\n",
       "\n",
       "    function loadScript(lib) {\n",
       "      return new Promise(function(resolve, reject) {\n",
       "        var s = document.createElement('script');\n",
       "        s.src = paths[lib];\n",
       "        s.async = true;\n",
       "        s.onload = () => resolve(paths[lib]);\n",
       "        s.onerror = () => reject(`Error loading script: ${paths[lib]}`);\n",
       "        document.getElementsByTagName(\"head\")[0].appendChild(s);\n",
       "      });\n",
       "    }\n",
       "\n",
       "    function showError(err) {\n",
       "      outputDiv.innerHTML = `<div class=\"error\" style=\"color:red;\">${err}</div>`;\n",
       "      throw err;\n",
       "    }\n",
       "\n",
       "    function displayChart(vegaEmbed) {\n",
       "      vegaEmbed(outputDiv, spec, embedOpt)\n",
       "        .catch(err => showError(`Javascript Error: ${err.message}<br>This usually means there's a typo in your chart specification. See the javascript console for the full traceback.`));\n",
       "    }\n",
       "\n",
       "    if(typeof define === \"function\" && define.amd) {\n",
       "      requirejs.config({paths});\n",
       "      require([\"vega-embed\"], displayChart, err => showError(`Error loading script: ${err.message}`));\n",
       "    } else if (typeof vegaEmbed === \"function\") {\n",
       "      displayChart(vegaEmbed);\n",
       "    } else {\n",
       "      loadScript(\"vega\")\n",
       "        .then(() => loadScript(\"vega-lite\"))\n",
       "        .then(() => loadScript(\"vega-embed\"))\n",
       "        .catch(showError)\n",
       "        .then(() => displayChart(vegaEmbed));\n",
       "    }\n",
       "  })({\"config\": {\"view\": {\"continuousWidth\": 400, \"continuousHeight\": 300}}, \"hconcat\": [{\"data\": {\"name\": \"data-c1c73d8bb7fb2a5bb9009e6deee65758\"}, \"mark\": \"bar\", \"encoding\": {\"x\": {\"type\": \"ordinal\", \"axis\": {\"labelAngle\": 0, \"ticks\": false}, \"field\": \"Group\", \"sort\": {\"encoding\": \"y\", \"order\": \"descending\"}}, \"y\": {\"type\": \"quantitative\", \"axis\": {\"labelAngle\": 0}, \"field\": \"Mean F1 Score\"}}, \"height\": 300, \"title\": \"Baseline LUKE Results\", \"width\": 300}, {\"data\": {\"name\": \"data-dcede5546ccfbe049acc685ac0edaf28\"}, \"mark\": \"bar\", \"encoding\": {\"x\": {\"type\": \"ordinal\", \"axis\": {\"labelAngle\": 0, \"ticks\": false}, \"field\": \"Group\", \"sort\": {\"encoding\": \"y\", \"order\": \"descending\"}}, \"y\": {\"type\": \"quantitative\", \"axis\": {\"labelAngle\": 0}, \"field\": \"Mean F1 Score\"}}, \"height\": 300, \"title\": \"Custom LUKE Results\", \"width\": 300}], \"$schema\": \"https://vega.github.io/schema/vega-lite/v4.8.1.json\", \"datasets\": {\"data-c1c73d8bb7fb2a5bb9009e6deee65758\": [{\"Group\": \"Best Performing Race Group\", \"F1 Score\": null, \"Mean F1 Score\": 0.9836}, {\"Group\": \"Other 3 Race Groups\", \"F1 Score\": null, \"Mean F1 Score\": 0.8127}], \"data-dcede5546ccfbe049acc685ac0edaf28\": [{\"Group\": \"Best Performing Race Group\", \"F1 Score\": null, \"Mean F1 Score\": 0.9954}, {\"Group\": \"Other 3 Race Groups\", \"F1 Score\": null, \"Mean F1 Score\": 0.9543333333333334}]}}, {\"mode\": \"vega-lite\"});\n",
       "</script>"
      ],
      "text/plain": [
       "alt.HConcatChart(...)"
      ]
     },
     "execution_count": 6,
     "metadata": {},
     "output_type": "execute_result"
    }
   ],
   "source": [
    "plot_breakdown(baseline_results, \"Baseline LUKE Results\") | plot_breakdown(custom_results, \"Custom LUKE Results\")"
   ]
  },
  {
   "cell_type": "code",
   "execution_count": 7,
   "id": "31b878fb",
   "metadata": {},
   "outputs": [],
   "source": [
    "def plot_all_group_chart(input_df, title):\n",
    "    sort_order = [\"White\", \"Hispanic\", \"API\", \"Black\"]\n",
    "    chart = alt.Chart(input_df).mark_bar().encode(\n",
    "        x=alt.X('Race:O', axis=alt.Axis(labelAngle=0, ticks=False), sort=sort_order),\n",
    "        y=alt.Y('Score:Q', axis=alt.Axis(labelAngle=0), title=\"F1 Score\")\n",
    "    ).properties(width = 300, height = 300, title=title)\n",
    "    return chart"
   ]
  },
  {
   "cell_type": "code",
   "execution_count": 8,
   "id": "f46e0001",
   "metadata": {},
   "outputs": [],
   "source": [
    "baseline_chart = plot_all_group_chart(baseline_results, \"Baseline LUKE Results\")\n",
    "custom_chart = plot_all_group_chart(custom_results, \"Custom LUKE Results\")"
   ]
  },
  {
   "cell_type": "code",
   "execution_count": 9,
   "id": "3f172883",
   "metadata": {},
   "outputs": [
    {
     "data": {
      "text/html": [
       "\n",
       "<div id=\"altair-viz-1732eb8b9a674a378ce354c7b582950f\"></div>\n",
       "<script type=\"text/javascript\">\n",
       "  (function(spec, embedOpt){\n",
       "    let outputDiv = document.currentScript.previousElementSibling;\n",
       "    if (outputDiv.id !== \"altair-viz-1732eb8b9a674a378ce354c7b582950f\") {\n",
       "      outputDiv = document.getElementById(\"altair-viz-1732eb8b9a674a378ce354c7b582950f\");\n",
       "    }\n",
       "    const paths = {\n",
       "      \"vega\": \"https://cdn.jsdelivr.net/npm//vega@5?noext\",\n",
       "      \"vega-lib\": \"https://cdn.jsdelivr.net/npm//vega-lib?noext\",\n",
       "      \"vega-lite\": \"https://cdn.jsdelivr.net/npm//vega-lite@4.8.1?noext\",\n",
       "      \"vega-embed\": \"https://cdn.jsdelivr.net/npm//vega-embed@6?noext\",\n",
       "    };\n",
       "\n",
       "    function loadScript(lib) {\n",
       "      return new Promise(function(resolve, reject) {\n",
       "        var s = document.createElement('script');\n",
       "        s.src = paths[lib];\n",
       "        s.async = true;\n",
       "        s.onload = () => resolve(paths[lib]);\n",
       "        s.onerror = () => reject(`Error loading script: ${paths[lib]}`);\n",
       "        document.getElementsByTagName(\"head\")[0].appendChild(s);\n",
       "      });\n",
       "    }\n",
       "\n",
       "    function showError(err) {\n",
       "      outputDiv.innerHTML = `<div class=\"error\" style=\"color:red;\">${err}</div>`;\n",
       "      throw err;\n",
       "    }\n",
       "\n",
       "    function displayChart(vegaEmbed) {\n",
       "      vegaEmbed(outputDiv, spec, embedOpt)\n",
       "        .catch(err => showError(`Javascript Error: ${err.message}<br>This usually means there's a typo in your chart specification. See the javascript console for the full traceback.`));\n",
       "    }\n",
       "\n",
       "    if(typeof define === \"function\" && define.amd) {\n",
       "      requirejs.config({paths});\n",
       "      require([\"vega-embed\"], displayChart, err => showError(`Error loading script: ${err.message}`));\n",
       "    } else if (typeof vegaEmbed === \"function\") {\n",
       "      displayChart(vegaEmbed);\n",
       "    } else {\n",
       "      loadScript(\"vega\")\n",
       "        .then(() => loadScript(\"vega-lite\"))\n",
       "        .then(() => loadScript(\"vega-embed\"))\n",
       "        .catch(showError)\n",
       "        .then(() => displayChart(vegaEmbed));\n",
       "    }\n",
       "  })({\"config\": {\"view\": {\"continuousWidth\": 400, \"continuousHeight\": 300}}, \"hconcat\": [{\"data\": {\"name\": \"data-eff11963ab2e8b14b40920e7a817d803\"}, \"mark\": \"bar\", \"encoding\": {\"x\": {\"type\": \"ordinal\", \"axis\": {\"labelAngle\": 0, \"ticks\": false}, \"field\": \"Race\", \"sort\": [\"White\", \"Hispanic\", \"API\", \"Black\"]}, \"y\": {\"type\": \"quantitative\", \"axis\": {\"labelAngle\": 0}, \"field\": \"Score\", \"title\": \"F1 Score\"}}, \"height\": 300, \"title\": \"Baseline LUKE Results\", \"width\": 300}, {\"data\": {\"name\": \"data-ad0b87c98ebbc6ea483063c7f56edb45\"}, \"mark\": \"bar\", \"encoding\": {\"x\": {\"type\": \"ordinal\", \"axis\": {\"labelAngle\": 0, \"ticks\": false}, \"field\": \"Race\", \"sort\": [\"White\", \"Hispanic\", \"API\", \"Black\"]}, \"y\": {\"type\": \"quantitative\", \"axis\": {\"labelAngle\": 0}, \"field\": \"Score\", \"title\": \"F1 Score\"}}, \"height\": 300, \"title\": \"Custom LUKE Results\", \"width\": 300}], \"$schema\": \"https://vega.github.io/schema/vega-lite/v4.8.1.json\", \"datasets\": {\"data-eff11963ab2e8b14b40920e7a817d803\": [{\"Model\": \"LUKE-Baseline\", \"Race\": \"White\", \"Test Set\": \"curated-test-white\", \"Metric\": \"F1-PER\", \"Score\": 0.9836}, {\"Model\": \"LUKE-Baseline\", \"Race\": \"Black\", \"Test Set\": \"curated-test-black\", \"Metric\": \"F1-PER\", \"Score\": 0.7604}, {\"Model\": \"LUKE-Baseline\", \"Race\": \"API\", \"Test Set\": \"curated-test-api\", \"Metric\": \"F1-PER\", \"Score\": 0.7832}, {\"Model\": \"LUKE-Baseline\", \"Race\": \"Hispanic\", \"Test Set\": \"curated-test-hispanic\", \"Metric\": \"F1-PER\", \"Score\": 0.8945}], \"data-ad0b87c98ebbc6ea483063c7f56edb45\": [{\"Model\": \"LUKE-Custom\", \"Race\": \"White\", \"Test Set\": \"curated-test-white\", \"Metric\": \"F1-PER\", \"Score\": 0.9954}, {\"Model\": \"LUKE-Custom\", \"Race\": \"Black\", \"Test Set\": \"curated-test-black\", \"Metric\": \"F1-PER\", \"Score\": 0.9109999999999999}, {\"Model\": \"LUKE-Custom\", \"Race\": \"API\", \"Test Set\": \"curated-test-api\", \"Metric\": \"F1-PER\", \"Score\": 0.9873}, {\"Model\": \"LUKE-Custom\", \"Race\": \"Hispanic\", \"Test Set\": \"curated-test-hispanic\", \"Metric\": \"F1-PER\", \"Score\": 0.9647}]}}, {\"mode\": \"vega-lite\"});\n",
       "</script>"
      ],
      "text/plain": [
       "alt.HConcatChart(...)"
      ]
     },
     "execution_count": 9,
     "metadata": {},
     "output_type": "execute_result"
    }
   ],
   "source": [
    "baseline_chart | custom_chart"
   ]
  },
  {
   "cell_type": "code",
   "execution_count": 13,
   "id": "5ef731f6",
   "metadata": {},
   "outputs": [],
   "source": [
    "def plot_conll_results(input_df):\n",
    "    conll_results = input_df.loc[(results_df[\"Test Set\"] == \"CoNLL-03 Test\")]\n",
    "    chart = alt.Chart(conll_results).mark_bar().encode(\n",
    "    x=alt.X('Model:N', axis=alt.Axis(labelAngle=0, ticks=False)),\n",
    "    y=alt.Y('Score:Q', axis=alt.Axis(labelAngle=0), title=\"F1 Score\"), \n",
    "    color=alt.Color(\"Model:N\"), \n",
    "    column=alt.Column(\"Metric:N\", title=\"Metric\")\n",
    ").properties(width = 200, height = 300, title=\"CoNLL-2003 Test Results\")\n",
    "    return chart"
   ]
  },
  {
   "cell_type": "code",
   "execution_count": 14,
   "id": "d3318421",
   "metadata": {},
   "outputs": [],
   "source": [
    "conll_results = plot_conll_results(results_df)"
   ]
  },
  {
   "cell_type": "code",
   "execution_count": 15,
   "id": "86fd8322",
   "metadata": {},
   "outputs": [
    {
     "data": {
      "text/html": [
       "\n",
       "<div id=\"altair-viz-a59b3332b1f941aab6a66df4d5c054a1\"></div>\n",
       "<script type=\"text/javascript\">\n",
       "  (function(spec, embedOpt){\n",
       "    let outputDiv = document.currentScript.previousElementSibling;\n",
       "    if (outputDiv.id !== \"altair-viz-a59b3332b1f941aab6a66df4d5c054a1\") {\n",
       "      outputDiv = document.getElementById(\"altair-viz-a59b3332b1f941aab6a66df4d5c054a1\");\n",
       "    }\n",
       "    const paths = {\n",
       "      \"vega\": \"https://cdn.jsdelivr.net/npm//vega@5?noext\",\n",
       "      \"vega-lib\": \"https://cdn.jsdelivr.net/npm//vega-lib?noext\",\n",
       "      \"vega-lite\": \"https://cdn.jsdelivr.net/npm//vega-lite@4.8.1?noext\",\n",
       "      \"vega-embed\": \"https://cdn.jsdelivr.net/npm//vega-embed@6?noext\",\n",
       "    };\n",
       "\n",
       "    function loadScript(lib) {\n",
       "      return new Promise(function(resolve, reject) {\n",
       "        var s = document.createElement('script');\n",
       "        s.src = paths[lib];\n",
       "        s.async = true;\n",
       "        s.onload = () => resolve(paths[lib]);\n",
       "        s.onerror = () => reject(`Error loading script: ${paths[lib]}`);\n",
       "        document.getElementsByTagName(\"head\")[0].appendChild(s);\n",
       "      });\n",
       "    }\n",
       "\n",
       "    function showError(err) {\n",
       "      outputDiv.innerHTML = `<div class=\"error\" style=\"color:red;\">${err}</div>`;\n",
       "      throw err;\n",
       "    }\n",
       "\n",
       "    function displayChart(vegaEmbed) {\n",
       "      vegaEmbed(outputDiv, spec, embedOpt)\n",
       "        .catch(err => showError(`Javascript Error: ${err.message}<br>This usually means there's a typo in your chart specification. See the javascript console for the full traceback.`));\n",
       "    }\n",
       "\n",
       "    if(typeof define === \"function\" && define.amd) {\n",
       "      requirejs.config({paths});\n",
       "      require([\"vega-embed\"], displayChart, err => showError(`Error loading script: ${err.message}`));\n",
       "    } else if (typeof vegaEmbed === \"function\") {\n",
       "      displayChart(vegaEmbed);\n",
       "    } else {\n",
       "      loadScript(\"vega\")\n",
       "        .then(() => loadScript(\"vega-lite\"))\n",
       "        .then(() => loadScript(\"vega-embed\"))\n",
       "        .catch(showError)\n",
       "        .then(() => displayChart(vegaEmbed));\n",
       "    }\n",
       "  })({\"config\": {\"view\": {\"continuousWidth\": 400, \"continuousHeight\": 300}}, \"data\": {\"name\": \"data-32c5277e45d180f420b81f5429b2e3b1\"}, \"mark\": \"bar\", \"encoding\": {\"color\": {\"type\": \"nominal\", \"field\": \"Model\"}, \"column\": {\"type\": \"nominal\", \"field\": \"Metric\", \"title\": \"Metric\"}, \"x\": {\"type\": \"nominal\", \"axis\": {\"labelAngle\": 0, \"ticks\": false}, \"field\": \"Model\"}, \"y\": {\"type\": \"quantitative\", \"axis\": {\"labelAngle\": 0}, \"field\": \"Score\", \"title\": \"F1 Score\"}}, \"height\": 300, \"title\": \"CoNLL-2003 Test Results\", \"width\": 200, \"$schema\": \"https://vega.github.io/schema/vega-lite/v4.8.1.json\", \"datasets\": {\"data-32c5277e45d180f420b81f5429b2e3b1\": [{\"Model\": \"LUKE-Baseline\", \"Race\": \"Nan\", \"Test Set\": \"CoNLL-03 Test\", \"Metric\": \"F1 Weighted Average\", \"Score\": 0.9421}, {\"Model\": \"LUKE-Baseline\", \"Race\": \"Nan\", \"Test Set\": \"CoNLL-03 Test\", \"Metric\": \"F1-PER\", \"Score\": 0.9701}, {\"Model\": \"LUKE-Custom\", \"Race\": \"Nan\", \"Test Set\": \"CoNLL-03 Test\", \"Metric\": \"F1 Weighted Average\", \"Score\": 0.9184}, {\"Model\": \"LUKE-Custom\", \"Race\": \"Nan\", \"Test Set\": \"CoNLL-03 Test\", \"Metric\": \"F1-PER\", \"Score\": 0.9542}]}}, {\"mode\": \"vega-lite\"});\n",
       "</script>"
      ],
      "text/plain": [
       "alt.Chart(...)"
      ]
     },
     "execution_count": 15,
     "metadata": {},
     "output_type": "execute_result"
    }
   ],
   "source": [
    "conll_results"
   ]
  },
  {
   "cell_type": "code",
   "execution_count": null,
   "id": "ed49ab3b",
   "metadata": {},
   "outputs": [],
   "source": []
  }
 ],
 "metadata": {
  "kernelspec": {
   "display_name": "Python 3 (ipykernel)",
   "language": "python",
   "name": "python3"
  },
  "language_info": {
   "codemirror_mode": {
    "name": "ipython",
    "version": 3
   },
   "file_extension": ".py",
   "mimetype": "text/x-python",
   "name": "python",
   "nbconvert_exporter": "python",
   "pygments_lexer": "ipython3",
   "version": "3.8.0"
  }
 },
 "nbformat": 4,
 "nbformat_minor": 5
}

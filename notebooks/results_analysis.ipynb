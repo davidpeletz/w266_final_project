{
 "cells": [
  {
   "cell_type": "code",
   "execution_count": 1,
   "id": "ae192b33",
   "metadata": {},
   "outputs": [],
   "source": [
    "import pandas as pd\n",
    "import altair as alt"
   ]
  },
  {
   "cell_type": "code",
   "execution_count": 2,
   "id": "58d341a7",
   "metadata": {},
   "outputs": [],
   "source": [
    "results_df = pd.read_csv(\"../data/interim/results_table.csv\")"
   ]
  },
  {
   "cell_type": "code",
   "execution_count": 3,
   "id": "dac21736",
   "metadata": {},
   "outputs": [],
   "source": [
    "results_df[\"Score: \"] = pd.to_numeric(results_df[\"Score: \"]) \n",
    "results_df = results_df.rename(columns={\"Score: \": 'Score', 'Test Set:': 'Test Set', 'Race:':'Race', \n",
    "                                        \"Model: \":\"Model\", \"Metric:\": \"Metric\"})\n",
    "results_df[\"Metric\"] = results_df[\"Metric\"].apply(lambda x: \"F1 Weighted Average\" if str(x) == \"F1-weighted-avg\"else x)\n",
    "results_df[\"Race\"] = results_df[\"Race\"].apply(lambda x: str(x).title() if str(x) != 'api' else str(x).upper())\n",
    "\n",
    "luke_baseline_results = results_df.loc[(results_df[\"Model\"] == \"LUKE-Baseline\") & (results_df[\"Test Set\"] != \"CoNLL-03 Test\")]\n",
    "luke_custom_results = results_df.loc[(results_df[\"Model\"] == \"LUKE-Custom\") & (results_df[\"Test Set\"] != \"CoNLL-03 Test\")]\n",
    "flair_baseline_results = results_df.loc[(results_df[\"Model\"] == \"Flair-Baseline\") & (results_df[\"Test Set\"] != \"CoNLL-03 Test\")]"
   ]
  },
  {
   "cell_type": "code",
   "execution_count": 4,
   "id": "3f8b1016",
   "metadata": {},
   "outputs": [],
   "source": [
    "def plot_breakdown(input_df, title):\n",
    "    groups = [\"Best Performing Race Group\", \"Other 3 Race Groups\"]\n",
    "    scores = [list(input_df.loc[input_df[\"Race\"]==\"White\"][\"Score\"])[0], input_df.loc[input_df[\"Race\"]!=\"White\"][\"Score\"].mean()]\n",
    "    \n",
    "    df = pd.DataFrame(columns=[\"Group\", \"F1 Score\"])\n",
    "    df[\"Mean F1 Score\"] = scores\n",
    "    df[\"Group\"] = groups\n",
    "    \n",
    "    chart = alt.Chart(df).mark_bar().encode(\n",
    "    x=alt.X('Group:O', axis=alt.Axis(labelAngle=0, ticks=False), sort={\"encoding\":\"y\", \"order\":\"descending\"}),\n",
    "    y=alt.Y('Mean F1 Score:Q', axis=alt.Axis(labelAngle=0))\n",
    "    ).properties(width = 300, height = 300, title=title)\n",
    "    \n",
    "    text = chart.mark_text(\n",
    "        align='center',\n",
    "        baseline='top',\n",
    "        dy=5, # update\n",
    "        color='white'\n",
    "    ).encode(\n",
    "        text='Mean F1 Score:Q',\n",
    "    )\n",
    "\n",
    "    return_chart = (chart + text).configure_axis(grid=False).properties(title=\"CoNLL-2003 Test Results\").properties(width = 300, height = 300, title=title)\n",
    "    return return_chart\n",
    "\n",
    "#     return chart"
   ]
  },
  {
   "cell_type": "code",
   "execution_count": 5,
   "id": "2b241854",
   "metadata": {
    "scrolled": true
   },
   "outputs": [
    {
     "data": {
      "text/html": [
       "\n",
       "<div id=\"altair-viz-eb3a1a73f70e4f609cca48e36f007b04\"></div>\n",
       "<script type=\"text/javascript\">\n",
       "  (function(spec, embedOpt){\n",
       "    let outputDiv = document.currentScript.previousElementSibling;\n",
       "    if (outputDiv.id !== \"altair-viz-eb3a1a73f70e4f609cca48e36f007b04\") {\n",
       "      outputDiv = document.getElementById(\"altair-viz-eb3a1a73f70e4f609cca48e36f007b04\");\n",
       "    }\n",
       "    const paths = {\n",
       "      \"vega\": \"https://cdn.jsdelivr.net/npm//vega@5?noext\",\n",
       "      \"vega-lib\": \"https://cdn.jsdelivr.net/npm//vega-lib?noext\",\n",
       "      \"vega-lite\": \"https://cdn.jsdelivr.net/npm//vega-lite@4.8.1?noext\",\n",
       "      \"vega-embed\": \"https://cdn.jsdelivr.net/npm//vega-embed@6?noext\",\n",
       "    };\n",
       "\n",
       "    function loadScript(lib) {\n",
       "      return new Promise(function(resolve, reject) {\n",
       "        var s = document.createElement('script');\n",
       "        s.src = paths[lib];\n",
       "        s.async = true;\n",
       "        s.onload = () => resolve(paths[lib]);\n",
       "        s.onerror = () => reject(`Error loading script: ${paths[lib]}`);\n",
       "        document.getElementsByTagName(\"head\")[0].appendChild(s);\n",
       "      });\n",
       "    }\n",
       "\n",
       "    function showError(err) {\n",
       "      outputDiv.innerHTML = `<div class=\"error\" style=\"color:red;\">${err}</div>`;\n",
       "      throw err;\n",
       "    }\n",
       "\n",
       "    function displayChart(vegaEmbed) {\n",
       "      vegaEmbed(outputDiv, spec, embedOpt)\n",
       "        .catch(err => showError(`Javascript Error: ${err.message}<br>This usually means there's a typo in your chart specification. See the javascript console for the full traceback.`));\n",
       "    }\n",
       "\n",
       "    if(typeof define === \"function\" && define.amd) {\n",
       "      requirejs.config({paths});\n",
       "      require([\"vega-embed\"], displayChart, err => showError(`Error loading script: ${err.message}`));\n",
       "    } else if (typeof vegaEmbed === \"function\") {\n",
       "      displayChart(vegaEmbed);\n",
       "    } else {\n",
       "      loadScript(\"vega\")\n",
       "        .then(() => loadScript(\"vega-lite\"))\n",
       "        .then(() => loadScript(\"vega-embed\"))\n",
       "        .catch(showError)\n",
       "        .then(() => displayChart(vegaEmbed));\n",
       "    }\n",
       "  })({\"config\": {\"view\": {\"continuousWidth\": 400, \"continuousHeight\": 300}, \"axis\": {\"grid\": false}}, \"layer\": [{\"mark\": \"bar\", \"encoding\": {\"x\": {\"type\": \"ordinal\", \"axis\": {\"labelAngle\": 0, \"ticks\": false}, \"field\": \"Group\", \"sort\": {\"encoding\": \"y\", \"order\": \"descending\"}}, \"y\": {\"type\": \"quantitative\", \"axis\": {\"labelAngle\": 0}, \"field\": \"Mean F1 Score\"}}, \"height\": 300, \"title\": \"Baseline LUKE Results\", \"width\": 300}, {\"mark\": {\"type\": \"text\", \"align\": \"center\", \"baseline\": \"top\", \"color\": \"white\", \"dy\": 5}, \"encoding\": {\"text\": {\"type\": \"quantitative\", \"field\": \"Mean F1 Score\"}, \"x\": {\"type\": \"ordinal\", \"axis\": {\"labelAngle\": 0, \"ticks\": false}, \"field\": \"Group\", \"sort\": {\"encoding\": \"y\", \"order\": \"descending\"}}, \"y\": {\"type\": \"quantitative\", \"axis\": {\"labelAngle\": 0}, \"field\": \"Mean F1 Score\"}}, \"height\": 300, \"title\": \"Baseline LUKE Results\", \"width\": 300}], \"data\": {\"name\": \"data-c1c73d8bb7fb2a5bb9009e6deee65758\"}, \"height\": 300, \"title\": \"Baseline LUKE Results\", \"width\": 300, \"$schema\": \"https://vega.github.io/schema/vega-lite/v4.8.1.json\", \"datasets\": {\"data-c1c73d8bb7fb2a5bb9009e6deee65758\": [{\"Group\": \"Best Performing Race Group\", \"F1 Score\": null, \"Mean F1 Score\": 0.9836}, {\"Group\": \"Other 3 Race Groups\", \"F1 Score\": null, \"Mean F1 Score\": 0.8127}]}}, {\"mode\": \"vega-lite\"});\n",
       "</script>"
      ],
      "text/plain": [
       "alt.LayerChart(...)"
      ]
     },
     "execution_count": 5,
     "metadata": {},
     "output_type": "execute_result"
    }
   ],
   "source": [
    "plot_breakdown(luke_baseline_results, \"Baseline LUKE Results\")"
   ]
  },
  {
   "cell_type": "code",
   "execution_count": 6,
   "id": "3902ee38",
   "metadata": {
    "scrolled": true
   },
   "outputs": [
    {
     "data": {
      "text/html": [
       "\n",
       "<div id=\"altair-viz-50edd35d075c41d08ddc20e678ec3617\"></div>\n",
       "<script type=\"text/javascript\">\n",
       "  (function(spec, embedOpt){\n",
       "    let outputDiv = document.currentScript.previousElementSibling;\n",
       "    if (outputDiv.id !== \"altair-viz-50edd35d075c41d08ddc20e678ec3617\") {\n",
       "      outputDiv = document.getElementById(\"altair-viz-50edd35d075c41d08ddc20e678ec3617\");\n",
       "    }\n",
       "    const paths = {\n",
       "      \"vega\": \"https://cdn.jsdelivr.net/npm//vega@5?noext\",\n",
       "      \"vega-lib\": \"https://cdn.jsdelivr.net/npm//vega-lib?noext\",\n",
       "      \"vega-lite\": \"https://cdn.jsdelivr.net/npm//vega-lite@4.8.1?noext\",\n",
       "      \"vega-embed\": \"https://cdn.jsdelivr.net/npm//vega-embed@6?noext\",\n",
       "    };\n",
       "\n",
       "    function loadScript(lib) {\n",
       "      return new Promise(function(resolve, reject) {\n",
       "        var s = document.createElement('script');\n",
       "        s.src = paths[lib];\n",
       "        s.async = true;\n",
       "        s.onload = () => resolve(paths[lib]);\n",
       "        s.onerror = () => reject(`Error loading script: ${paths[lib]}`);\n",
       "        document.getElementsByTagName(\"head\")[0].appendChild(s);\n",
       "      });\n",
       "    }\n",
       "\n",
       "    function showError(err) {\n",
       "      outputDiv.innerHTML = `<div class=\"error\" style=\"color:red;\">${err}</div>`;\n",
       "      throw err;\n",
       "    }\n",
       "\n",
       "    function displayChart(vegaEmbed) {\n",
       "      vegaEmbed(outputDiv, spec, embedOpt)\n",
       "        .catch(err => showError(`Javascript Error: ${err.message}<br>This usually means there's a typo in your chart specification. See the javascript console for the full traceback.`));\n",
       "    }\n",
       "\n",
       "    if(typeof define === \"function\" && define.amd) {\n",
       "      requirejs.config({paths});\n",
       "      require([\"vega-embed\"], displayChart, err => showError(`Error loading script: ${err.message}`));\n",
       "    } else if (typeof vegaEmbed === \"function\") {\n",
       "      displayChart(vegaEmbed);\n",
       "    } else {\n",
       "      loadScript(\"vega\")\n",
       "        .then(() => loadScript(\"vega-lite\"))\n",
       "        .then(() => loadScript(\"vega-embed\"))\n",
       "        .catch(showError)\n",
       "        .then(() => displayChart(vegaEmbed));\n",
       "    }\n",
       "  })({\"config\": {\"view\": {\"continuousWidth\": 400, \"continuousHeight\": 300}, \"axis\": {\"grid\": false}}, \"layer\": [{\"mark\": \"bar\", \"encoding\": {\"x\": {\"type\": \"ordinal\", \"axis\": {\"labelAngle\": 0, \"ticks\": false}, \"field\": \"Group\", \"sort\": {\"encoding\": \"y\", \"order\": \"descending\"}}, \"y\": {\"type\": \"quantitative\", \"axis\": {\"labelAngle\": 0}, \"field\": \"Mean F1 Score\"}}, \"height\": 300, \"title\": \"Custom LUKE Results\", \"width\": 300}, {\"mark\": {\"type\": \"text\", \"align\": \"center\", \"baseline\": \"top\", \"color\": \"white\", \"dy\": 5}, \"encoding\": {\"text\": {\"type\": \"quantitative\", \"field\": \"Mean F1 Score\"}, \"x\": {\"type\": \"ordinal\", \"axis\": {\"labelAngle\": 0, \"ticks\": false}, \"field\": \"Group\", \"sort\": {\"encoding\": \"y\", \"order\": \"descending\"}}, \"y\": {\"type\": \"quantitative\", \"axis\": {\"labelAngle\": 0}, \"field\": \"Mean F1 Score\"}}, \"height\": 300, \"title\": \"Custom LUKE Results\", \"width\": 300}], \"data\": {\"name\": \"data-dcede5546ccfbe049acc685ac0edaf28\"}, \"height\": 300, \"title\": \"Custom LUKE Results\", \"width\": 300, \"$schema\": \"https://vega.github.io/schema/vega-lite/v4.8.1.json\", \"datasets\": {\"data-dcede5546ccfbe049acc685ac0edaf28\": [{\"Group\": \"Best Performing Race Group\", \"F1 Score\": null, \"Mean F1 Score\": 0.9954}, {\"Group\": \"Other 3 Race Groups\", \"F1 Score\": null, \"Mean F1 Score\": 0.9543333333333334}]}}, {\"mode\": \"vega-lite\"});\n",
       "</script>"
      ],
      "text/plain": [
       "alt.LayerChart(...)"
      ]
     },
     "execution_count": 6,
     "metadata": {},
     "output_type": "execute_result"
    }
   ],
   "source": [
    "plot_breakdown(luke_custom_results, \"Custom LUKE Results\")"
   ]
  },
  {
   "cell_type": "code",
   "execution_count": 7,
   "id": "6e598130",
   "metadata": {},
   "outputs": [
    {
     "data": {
      "text/html": [
       "\n",
       "<div id=\"altair-viz-e01e3e2e3cd2424fafbeea6c4654bf66\"></div>\n",
       "<script type=\"text/javascript\">\n",
       "  (function(spec, embedOpt){\n",
       "    let outputDiv = document.currentScript.previousElementSibling;\n",
       "    if (outputDiv.id !== \"altair-viz-e01e3e2e3cd2424fafbeea6c4654bf66\") {\n",
       "      outputDiv = document.getElementById(\"altair-viz-e01e3e2e3cd2424fafbeea6c4654bf66\");\n",
       "    }\n",
       "    const paths = {\n",
       "      \"vega\": \"https://cdn.jsdelivr.net/npm//vega@5?noext\",\n",
       "      \"vega-lib\": \"https://cdn.jsdelivr.net/npm//vega-lib?noext\",\n",
       "      \"vega-lite\": \"https://cdn.jsdelivr.net/npm//vega-lite@4.8.1?noext\",\n",
       "      \"vega-embed\": \"https://cdn.jsdelivr.net/npm//vega-embed@6?noext\",\n",
       "    };\n",
       "\n",
       "    function loadScript(lib) {\n",
       "      return new Promise(function(resolve, reject) {\n",
       "        var s = document.createElement('script');\n",
       "        s.src = paths[lib];\n",
       "        s.async = true;\n",
       "        s.onload = () => resolve(paths[lib]);\n",
       "        s.onerror = () => reject(`Error loading script: ${paths[lib]}`);\n",
       "        document.getElementsByTagName(\"head\")[0].appendChild(s);\n",
       "      });\n",
       "    }\n",
       "\n",
       "    function showError(err) {\n",
       "      outputDiv.innerHTML = `<div class=\"error\" style=\"color:red;\">${err}</div>`;\n",
       "      throw err;\n",
       "    }\n",
       "\n",
       "    function displayChart(vegaEmbed) {\n",
       "      vegaEmbed(outputDiv, spec, embedOpt)\n",
       "        .catch(err => showError(`Javascript Error: ${err.message}<br>This usually means there's a typo in your chart specification. See the javascript console for the full traceback.`));\n",
       "    }\n",
       "\n",
       "    if(typeof define === \"function\" && define.amd) {\n",
       "      requirejs.config({paths});\n",
       "      require([\"vega-embed\"], displayChart, err => showError(`Error loading script: ${err.message}`));\n",
       "    } else if (typeof vegaEmbed === \"function\") {\n",
       "      displayChart(vegaEmbed);\n",
       "    } else {\n",
       "      loadScript(\"vega\")\n",
       "        .then(() => loadScript(\"vega-lite\"))\n",
       "        .then(() => loadScript(\"vega-embed\"))\n",
       "        .catch(showError)\n",
       "        .then(() => displayChart(vegaEmbed));\n",
       "    }\n",
       "  })({\"config\": {\"view\": {\"continuousWidth\": 400, \"continuousHeight\": 300}, \"axis\": {\"grid\": false}}, \"layer\": [{\"mark\": \"bar\", \"encoding\": {\"x\": {\"type\": \"ordinal\", \"axis\": {\"labelAngle\": 0, \"ticks\": false}, \"field\": \"Group\", \"sort\": {\"encoding\": \"y\", \"order\": \"descending\"}}, \"y\": {\"type\": \"quantitative\", \"axis\": {\"labelAngle\": 0}, \"field\": \"Mean F1 Score\"}}, \"height\": 300, \"title\": \"Baseline Flair Results\", \"width\": 300}, {\"mark\": {\"type\": \"text\", \"align\": \"center\", \"baseline\": \"top\", \"color\": \"white\", \"dy\": 5}, \"encoding\": {\"text\": {\"type\": \"quantitative\", \"field\": \"Mean F1 Score\"}, \"x\": {\"type\": \"ordinal\", \"axis\": {\"labelAngle\": 0, \"ticks\": false}, \"field\": \"Group\", \"sort\": {\"encoding\": \"y\", \"order\": \"descending\"}}, \"y\": {\"type\": \"quantitative\", \"axis\": {\"labelAngle\": 0}, \"field\": \"Mean F1 Score\"}}, \"height\": 300, \"title\": \"Baseline Flair Results\", \"width\": 300}], \"data\": {\"name\": \"data-6e2b8e571a5001a0e8f6bb1864f45e3e\"}, \"height\": 300, \"title\": \"Baseline Flair Results\", \"width\": 300, \"$schema\": \"https://vega.github.io/schema/vega-lite/v4.8.1.json\", \"datasets\": {\"data-6e2b8e571a5001a0e8f6bb1864f45e3e\": [{\"Group\": \"Best Performing Race Group\", \"F1 Score\": null, \"Mean F1 Score\": 0.9823}, {\"Group\": \"Other 3 Race Groups\", \"F1 Score\": null, \"Mean F1 Score\": 0.8828333333333332}]}}, {\"mode\": \"vega-lite\"});\n",
       "</script>"
      ],
      "text/plain": [
       "alt.LayerChart(...)"
      ]
     },
     "execution_count": 7,
     "metadata": {},
     "output_type": "execute_result"
    }
   ],
   "source": [
    "plot_breakdown(flair_baseline_results, \"Baseline Flair Results\")"
   ]
  },
  {
   "cell_type": "code",
   "execution_count": 8,
   "id": "d2f8cf78",
   "metadata": {},
   "outputs": [],
   "source": [
    "def plot_all_group_chart(input_df, title):\n",
    "    sort_order = [\"White\", \"Hispanic\", \"API\", \"Black\"]\n",
    "\n",
    "    chart = alt.Chart(input_df).mark_bar().encode(\n",
    "        x=alt.X('Race:O', axis=alt.Axis(labelAngle=0, ticks=False), sort=sort_order),\n",
    "        y=alt.Y('Score:Q', axis=alt.Axis(labelAngle=0), title=\"F1 Score\")\n",
    "    )\n",
    "\n",
    "    text = chart.mark_text(\n",
    "        align='center',\n",
    "        baseline='top',\n",
    "        dy=5, # update\n",
    "        color='white'\n",
    "    ).encode(\n",
    "        text='Score:Q',\n",
    "    )\n",
    "\n",
    "    return_chart = (chart + text).configure_axis(grid=False).properties(title=\"CoNLL-2003 Test Results\").properties(width = 300, height = 300, title=title)\n",
    "    return return_chart"
   ]
  },
  {
   "cell_type": "code",
   "execution_count": 9,
   "id": "52481fae",
   "metadata": {},
   "outputs": [],
   "source": [
    "luke_baseline_chart = plot_all_group_chart(luke_baseline_results, \"Baseline LUKE Results\")\n",
    "luke_custom_chart = plot_all_group_chart(luke_custom_results, \"Custom LUKE Results\")\n",
    "flair_baseline_chart = plot_all_group_chart(flair_baseline_results, \"Baseline Flair Results\")"
   ]
  },
  {
   "cell_type": "code",
   "execution_count": 10,
   "id": "abd93f93",
   "metadata": {
    "scrolled": true
   },
   "outputs": [
    {
     "data": {
      "text/html": [
       "\n",
       "<div id=\"altair-viz-eeb86a2baea246d0ae5a5feef054f950\"></div>\n",
       "<script type=\"text/javascript\">\n",
       "  (function(spec, embedOpt){\n",
       "    let outputDiv = document.currentScript.previousElementSibling;\n",
       "    if (outputDiv.id !== \"altair-viz-eeb86a2baea246d0ae5a5feef054f950\") {\n",
       "      outputDiv = document.getElementById(\"altair-viz-eeb86a2baea246d0ae5a5feef054f950\");\n",
       "    }\n",
       "    const paths = {\n",
       "      \"vega\": \"https://cdn.jsdelivr.net/npm//vega@5?noext\",\n",
       "      \"vega-lib\": \"https://cdn.jsdelivr.net/npm//vega-lib?noext\",\n",
       "      \"vega-lite\": \"https://cdn.jsdelivr.net/npm//vega-lite@4.8.1?noext\",\n",
       "      \"vega-embed\": \"https://cdn.jsdelivr.net/npm//vega-embed@6?noext\",\n",
       "    };\n",
       "\n",
       "    function loadScript(lib) {\n",
       "      return new Promise(function(resolve, reject) {\n",
       "        var s = document.createElement('script');\n",
       "        s.src = paths[lib];\n",
       "        s.async = true;\n",
       "        s.onload = () => resolve(paths[lib]);\n",
       "        s.onerror = () => reject(`Error loading script: ${paths[lib]}`);\n",
       "        document.getElementsByTagName(\"head\")[0].appendChild(s);\n",
       "      });\n",
       "    }\n",
       "\n",
       "    function showError(err) {\n",
       "      outputDiv.innerHTML = `<div class=\"error\" style=\"color:red;\">${err}</div>`;\n",
       "      throw err;\n",
       "    }\n",
       "\n",
       "    function displayChart(vegaEmbed) {\n",
       "      vegaEmbed(outputDiv, spec, embedOpt)\n",
       "        .catch(err => showError(`Javascript Error: ${err.message}<br>This usually means there's a typo in your chart specification. See the javascript console for the full traceback.`));\n",
       "    }\n",
       "\n",
       "    if(typeof define === \"function\" && define.amd) {\n",
       "      requirejs.config({paths});\n",
       "      require([\"vega-embed\"], displayChart, err => showError(`Error loading script: ${err.message}`));\n",
       "    } else if (typeof vegaEmbed === \"function\") {\n",
       "      displayChart(vegaEmbed);\n",
       "    } else {\n",
       "      loadScript(\"vega\")\n",
       "        .then(() => loadScript(\"vega-lite\"))\n",
       "        .then(() => loadScript(\"vega-embed\"))\n",
       "        .catch(showError)\n",
       "        .then(() => displayChart(vegaEmbed));\n",
       "    }\n",
       "  })({\"config\": {\"view\": {\"continuousWidth\": 400, \"continuousHeight\": 300}, \"axis\": {\"grid\": false}}, \"layer\": [{\"mark\": \"bar\", \"encoding\": {\"x\": {\"type\": \"ordinal\", \"axis\": {\"labelAngle\": 0, \"ticks\": false}, \"field\": \"Race\", \"sort\": [\"White\", \"Hispanic\", \"API\", \"Black\"]}, \"y\": {\"type\": \"quantitative\", \"axis\": {\"labelAngle\": 0}, \"field\": \"Score\", \"title\": \"F1 Score\"}}}, {\"mark\": {\"type\": \"text\", \"align\": \"center\", \"baseline\": \"top\", \"color\": \"white\", \"dy\": 5}, \"encoding\": {\"text\": {\"type\": \"quantitative\", \"field\": \"Score\"}, \"x\": {\"type\": \"ordinal\", \"axis\": {\"labelAngle\": 0, \"ticks\": false}, \"field\": \"Race\", \"sort\": [\"White\", \"Hispanic\", \"API\", \"Black\"]}, \"y\": {\"type\": \"quantitative\", \"axis\": {\"labelAngle\": 0}, \"field\": \"Score\", \"title\": \"F1 Score\"}}}], \"data\": {\"name\": \"data-eff11963ab2e8b14b40920e7a817d803\"}, \"height\": 300, \"title\": \"Baseline LUKE Results\", \"width\": 300, \"$schema\": \"https://vega.github.io/schema/vega-lite/v4.8.1.json\", \"datasets\": {\"data-eff11963ab2e8b14b40920e7a817d803\": [{\"Model\": \"LUKE-Baseline\", \"Race\": \"White\", \"Test Set\": \"curated-test-white\", \"Metric\": \"F1-PER\", \"Score\": 0.9836}, {\"Model\": \"LUKE-Baseline\", \"Race\": \"Black\", \"Test Set\": \"curated-test-black\", \"Metric\": \"F1-PER\", \"Score\": 0.7604}, {\"Model\": \"LUKE-Baseline\", \"Race\": \"API\", \"Test Set\": \"curated-test-api\", \"Metric\": \"F1-PER\", \"Score\": 0.7832}, {\"Model\": \"LUKE-Baseline\", \"Race\": \"Hispanic\", \"Test Set\": \"curated-test-hispanic\", \"Metric\": \"F1-PER\", \"Score\": 0.8945}]}}, {\"mode\": \"vega-lite\"});\n",
       "</script>"
      ],
      "text/plain": [
       "alt.LayerChart(...)"
      ]
     },
     "execution_count": 10,
     "metadata": {},
     "output_type": "execute_result"
    }
   ],
   "source": [
    "luke_baseline_chart"
   ]
  },
  {
   "cell_type": "code",
   "execution_count": 11,
   "id": "931175f2",
   "metadata": {
    "scrolled": true
   },
   "outputs": [
    {
     "data": {
      "text/html": [
       "\n",
       "<div id=\"altair-viz-a6d8204cf4494434940157c9d4bd9181\"></div>\n",
       "<script type=\"text/javascript\">\n",
       "  (function(spec, embedOpt){\n",
       "    let outputDiv = document.currentScript.previousElementSibling;\n",
       "    if (outputDiv.id !== \"altair-viz-a6d8204cf4494434940157c9d4bd9181\") {\n",
       "      outputDiv = document.getElementById(\"altair-viz-a6d8204cf4494434940157c9d4bd9181\");\n",
       "    }\n",
       "    const paths = {\n",
       "      \"vega\": \"https://cdn.jsdelivr.net/npm//vega@5?noext\",\n",
       "      \"vega-lib\": \"https://cdn.jsdelivr.net/npm//vega-lib?noext\",\n",
       "      \"vega-lite\": \"https://cdn.jsdelivr.net/npm//vega-lite@4.8.1?noext\",\n",
       "      \"vega-embed\": \"https://cdn.jsdelivr.net/npm//vega-embed@6?noext\",\n",
       "    };\n",
       "\n",
       "    function loadScript(lib) {\n",
       "      return new Promise(function(resolve, reject) {\n",
       "        var s = document.createElement('script');\n",
       "        s.src = paths[lib];\n",
       "        s.async = true;\n",
       "        s.onload = () => resolve(paths[lib]);\n",
       "        s.onerror = () => reject(`Error loading script: ${paths[lib]}`);\n",
       "        document.getElementsByTagName(\"head\")[0].appendChild(s);\n",
       "      });\n",
       "    }\n",
       "\n",
       "    function showError(err) {\n",
       "      outputDiv.innerHTML = `<div class=\"error\" style=\"color:red;\">${err}</div>`;\n",
       "      throw err;\n",
       "    }\n",
       "\n",
       "    function displayChart(vegaEmbed) {\n",
       "      vegaEmbed(outputDiv, spec, embedOpt)\n",
       "        .catch(err => showError(`Javascript Error: ${err.message}<br>This usually means there's a typo in your chart specification. See the javascript console for the full traceback.`));\n",
       "    }\n",
       "\n",
       "    if(typeof define === \"function\" && define.amd) {\n",
       "      requirejs.config({paths});\n",
       "      require([\"vega-embed\"], displayChart, err => showError(`Error loading script: ${err.message}`));\n",
       "    } else if (typeof vegaEmbed === \"function\") {\n",
       "      displayChart(vegaEmbed);\n",
       "    } else {\n",
       "      loadScript(\"vega\")\n",
       "        .then(() => loadScript(\"vega-lite\"))\n",
       "        .then(() => loadScript(\"vega-embed\"))\n",
       "        .catch(showError)\n",
       "        .then(() => displayChart(vegaEmbed));\n",
       "    }\n",
       "  })({\"config\": {\"view\": {\"continuousWidth\": 400, \"continuousHeight\": 300}, \"axis\": {\"grid\": false}}, \"layer\": [{\"mark\": \"bar\", \"encoding\": {\"x\": {\"type\": \"ordinal\", \"axis\": {\"labelAngle\": 0, \"ticks\": false}, \"field\": \"Race\", \"sort\": [\"White\", \"Hispanic\", \"API\", \"Black\"]}, \"y\": {\"type\": \"quantitative\", \"axis\": {\"labelAngle\": 0}, \"field\": \"Score\", \"title\": \"F1 Score\"}}}, {\"mark\": {\"type\": \"text\", \"align\": \"center\", \"baseline\": \"top\", \"color\": \"white\", \"dy\": 5}, \"encoding\": {\"text\": {\"type\": \"quantitative\", \"field\": \"Score\"}, \"x\": {\"type\": \"ordinal\", \"axis\": {\"labelAngle\": 0, \"ticks\": false}, \"field\": \"Race\", \"sort\": [\"White\", \"Hispanic\", \"API\", \"Black\"]}, \"y\": {\"type\": \"quantitative\", \"axis\": {\"labelAngle\": 0}, \"field\": \"Score\", \"title\": \"F1 Score\"}}}], \"data\": {\"name\": \"data-ad0b87c98ebbc6ea483063c7f56edb45\"}, \"height\": 300, \"title\": \"Custom LUKE Results\", \"width\": 300, \"$schema\": \"https://vega.github.io/schema/vega-lite/v4.8.1.json\", \"datasets\": {\"data-ad0b87c98ebbc6ea483063c7f56edb45\": [{\"Model\": \"LUKE-Custom\", \"Race\": \"White\", \"Test Set\": \"curated-test-white\", \"Metric\": \"F1-PER\", \"Score\": 0.9954}, {\"Model\": \"LUKE-Custom\", \"Race\": \"Black\", \"Test Set\": \"curated-test-black\", \"Metric\": \"F1-PER\", \"Score\": 0.9109999999999999}, {\"Model\": \"LUKE-Custom\", \"Race\": \"API\", \"Test Set\": \"curated-test-api\", \"Metric\": \"F1-PER\", \"Score\": 0.9873}, {\"Model\": \"LUKE-Custom\", \"Race\": \"Hispanic\", \"Test Set\": \"curated-test-hispanic\", \"Metric\": \"F1-PER\", \"Score\": 0.9647}]}}, {\"mode\": \"vega-lite\"});\n",
       "</script>"
      ],
      "text/plain": [
       "alt.LayerChart(...)"
      ]
     },
     "execution_count": 11,
     "metadata": {},
     "output_type": "execute_result"
    }
   ],
   "source": [
    "luke_custom_chart"
   ]
  },
  {
   "cell_type": "code",
   "execution_count": 12,
   "id": "f05cc0ea",
   "metadata": {},
   "outputs": [
    {
     "data": {
      "text/html": [
       "\n",
       "<div id=\"altair-viz-8fe0e57503474ca9855541b03af3f44f\"></div>\n",
       "<script type=\"text/javascript\">\n",
       "  (function(spec, embedOpt){\n",
       "    let outputDiv = document.currentScript.previousElementSibling;\n",
       "    if (outputDiv.id !== \"altair-viz-8fe0e57503474ca9855541b03af3f44f\") {\n",
       "      outputDiv = document.getElementById(\"altair-viz-8fe0e57503474ca9855541b03af3f44f\");\n",
       "    }\n",
       "    const paths = {\n",
       "      \"vega\": \"https://cdn.jsdelivr.net/npm//vega@5?noext\",\n",
       "      \"vega-lib\": \"https://cdn.jsdelivr.net/npm//vega-lib?noext\",\n",
       "      \"vega-lite\": \"https://cdn.jsdelivr.net/npm//vega-lite@4.8.1?noext\",\n",
       "      \"vega-embed\": \"https://cdn.jsdelivr.net/npm//vega-embed@6?noext\",\n",
       "    };\n",
       "\n",
       "    function loadScript(lib) {\n",
       "      return new Promise(function(resolve, reject) {\n",
       "        var s = document.createElement('script');\n",
       "        s.src = paths[lib];\n",
       "        s.async = true;\n",
       "        s.onload = () => resolve(paths[lib]);\n",
       "        s.onerror = () => reject(`Error loading script: ${paths[lib]}`);\n",
       "        document.getElementsByTagName(\"head\")[0].appendChild(s);\n",
       "      });\n",
       "    }\n",
       "\n",
       "    function showError(err) {\n",
       "      outputDiv.innerHTML = `<div class=\"error\" style=\"color:red;\">${err}</div>`;\n",
       "      throw err;\n",
       "    }\n",
       "\n",
       "    function displayChart(vegaEmbed) {\n",
       "      vegaEmbed(outputDiv, spec, embedOpt)\n",
       "        .catch(err => showError(`Javascript Error: ${err.message}<br>This usually means there's a typo in your chart specification. See the javascript console for the full traceback.`));\n",
       "    }\n",
       "\n",
       "    if(typeof define === \"function\" && define.amd) {\n",
       "      requirejs.config({paths});\n",
       "      require([\"vega-embed\"], displayChart, err => showError(`Error loading script: ${err.message}`));\n",
       "    } else if (typeof vegaEmbed === \"function\") {\n",
       "      displayChart(vegaEmbed);\n",
       "    } else {\n",
       "      loadScript(\"vega\")\n",
       "        .then(() => loadScript(\"vega-lite\"))\n",
       "        .then(() => loadScript(\"vega-embed\"))\n",
       "        .catch(showError)\n",
       "        .then(() => displayChart(vegaEmbed));\n",
       "    }\n",
       "  })({\"config\": {\"view\": {\"continuousWidth\": 400, \"continuousHeight\": 300}, \"axis\": {\"grid\": false}}, \"layer\": [{\"mark\": \"bar\", \"encoding\": {\"x\": {\"type\": \"ordinal\", \"axis\": {\"labelAngle\": 0, \"ticks\": false}, \"field\": \"Race\", \"sort\": [\"White\", \"Hispanic\", \"API\", \"Black\"]}, \"y\": {\"type\": \"quantitative\", \"axis\": {\"labelAngle\": 0}, \"field\": \"Score\", \"title\": \"F1 Score\"}}}, {\"mark\": {\"type\": \"text\", \"align\": \"center\", \"baseline\": \"top\", \"color\": \"white\", \"dy\": 5}, \"encoding\": {\"text\": {\"type\": \"quantitative\", \"field\": \"Score\"}, \"x\": {\"type\": \"ordinal\", \"axis\": {\"labelAngle\": 0, \"ticks\": false}, \"field\": \"Race\", \"sort\": [\"White\", \"Hispanic\", \"API\", \"Black\"]}, \"y\": {\"type\": \"quantitative\", \"axis\": {\"labelAngle\": 0}, \"field\": \"Score\", \"title\": \"F1 Score\"}}}], \"data\": {\"name\": \"data-db25db6f5b1db109dc3399ef5e43e8d6\"}, \"height\": 300, \"title\": \"Baseline Flair Results\", \"width\": 300, \"$schema\": \"https://vega.github.io/schema/vega-lite/v4.8.1.json\", \"datasets\": {\"data-db25db6f5b1db109dc3399ef5e43e8d6\": [{\"Model\": \"Flair-Baseline\", \"Race\": \"White\", \"Test Set\": \"curated-test-white\", \"Metric\": \"F1-PER\", \"Score\": 0.9823}, {\"Model\": \"Flair-Baseline\", \"Race\": \"Black\", \"Test Set\": \"curated-test-black\", \"Metric\": \"F1-PER\", \"Score\": 0.8440000000000001}, {\"Model\": \"Flair-Baseline\", \"Race\": \"API\", \"Test Set\": \"curated-test-api\", \"Metric\": \"F1-PER\", \"Score\": 0.8281}, {\"Model\": \"Flair-Baseline\", \"Race\": \"Hispanic\", \"Test Set\": \"curated-test-hispanic\", \"Metric\": \"F1-PER\", \"Score\": 0.9764}]}}, {\"mode\": \"vega-lite\"});\n",
       "</script>"
      ],
      "text/plain": [
       "alt.LayerChart(...)"
      ]
     },
     "execution_count": 12,
     "metadata": {},
     "output_type": "execute_result"
    }
   ],
   "source": [
    "flair_baseline_chart"
   ]
  },
  {
   "cell_type": "code",
   "execution_count": 13,
   "id": "1f64af40",
   "metadata": {},
   "outputs": [],
   "source": [
    "def plot_conll_results(input_df):\n",
    "    conll_results = input_df.loc[(input_df[\"Test Set\"] == \"CoNLL-03 Test\")]\n",
    "\n",
    "    sort_order = [\"Flair-Baseline\", \"LUKE-Baseline\", \"LUKE-Custom\"]\n",
    "    bars = alt.Chart(data=conll_results).mark_bar().encode(\n",
    "        x=alt.X('Model:N', axis=alt.Axis(labelAngle=0, ticks=False), sort=sort_order),\n",
    "        y=alt.Y('Score:Q', axis=alt.Axis(labelAngle=0), title=\"F1 Score\"), \n",
    "        color=alt.Color(\"Model:N\")).properties(\n",
    "        height=300,\n",
    "        width=225\n",
    "    )\n",
    "\n",
    "    text = bars.mark_text(\n",
    "        align='center',\n",
    "        baseline='top',\n",
    "        dy=-10, # update\n",
    "        color='white').encode(text='Score:Q')\n",
    "\n",
    "    chart = alt.layer(bars, text, data=conll_results).facet(\n",
    "        column=alt.Column(\"Metric:N\", title=\"Metric\")).configure_axis(grid=False).properties(title=\"CoNLL-2003 Test Results\")\n",
    "    \n",
    "    return chart\n"
   ]
  },
  {
   "cell_type": "code",
   "execution_count": 14,
   "id": "af8a2aba",
   "metadata": {},
   "outputs": [],
   "source": [
    "conll_results = plot_conll_results(results_df)"
   ]
  },
  {
   "cell_type": "code",
   "execution_count": 15,
   "id": "496d8b4f",
   "metadata": {},
   "outputs": [
    {
     "data": {
      "text/html": [
       "\n",
       "<div id=\"altair-viz-0f912f171ff64f7595da88fcc84e2b27\"></div>\n",
       "<script type=\"text/javascript\">\n",
       "  (function(spec, embedOpt){\n",
       "    let outputDiv = document.currentScript.previousElementSibling;\n",
       "    if (outputDiv.id !== \"altair-viz-0f912f171ff64f7595da88fcc84e2b27\") {\n",
       "      outputDiv = document.getElementById(\"altair-viz-0f912f171ff64f7595da88fcc84e2b27\");\n",
       "    }\n",
       "    const paths = {\n",
       "      \"vega\": \"https://cdn.jsdelivr.net/npm//vega@5?noext\",\n",
       "      \"vega-lib\": \"https://cdn.jsdelivr.net/npm//vega-lib?noext\",\n",
       "      \"vega-lite\": \"https://cdn.jsdelivr.net/npm//vega-lite@4.8.1?noext\",\n",
       "      \"vega-embed\": \"https://cdn.jsdelivr.net/npm//vega-embed@6?noext\",\n",
       "    };\n",
       "\n",
       "    function loadScript(lib) {\n",
       "      return new Promise(function(resolve, reject) {\n",
       "        var s = document.createElement('script');\n",
       "        s.src = paths[lib];\n",
       "        s.async = true;\n",
       "        s.onload = () => resolve(paths[lib]);\n",
       "        s.onerror = () => reject(`Error loading script: ${paths[lib]}`);\n",
       "        document.getElementsByTagName(\"head\")[0].appendChild(s);\n",
       "      });\n",
       "    }\n",
       "\n",
       "    function showError(err) {\n",
       "      outputDiv.innerHTML = `<div class=\"error\" style=\"color:red;\">${err}</div>`;\n",
       "      throw err;\n",
       "    }\n",
       "\n",
       "    function displayChart(vegaEmbed) {\n",
       "      vegaEmbed(outputDiv, spec, embedOpt)\n",
       "        .catch(err => showError(`Javascript Error: ${err.message}<br>This usually means there's a typo in your chart specification. See the javascript console for the full traceback.`));\n",
       "    }\n",
       "\n",
       "    if(typeof define === \"function\" && define.amd) {\n",
       "      requirejs.config({paths});\n",
       "      require([\"vega-embed\"], displayChart, err => showError(`Error loading script: ${err.message}`));\n",
       "    } else if (typeof vegaEmbed === \"function\") {\n",
       "      displayChart(vegaEmbed);\n",
       "    } else {\n",
       "      loadScript(\"vega\")\n",
       "        .then(() => loadScript(\"vega-lite\"))\n",
       "        .then(() => loadScript(\"vega-embed\"))\n",
       "        .catch(showError)\n",
       "        .then(() => displayChart(vegaEmbed));\n",
       "    }\n",
       "  })({\"config\": {\"view\": {\"continuousWidth\": 400, \"continuousHeight\": 300}, \"axis\": {\"grid\": false}}, \"data\": {\"name\": \"data-e42d8723e29129babc81b8bbe586bded\"}, \"facet\": {\"column\": {\"type\": \"nominal\", \"field\": \"Metric\", \"title\": \"Metric\"}}, \"spec\": {\"layer\": [{\"mark\": \"bar\", \"encoding\": {\"color\": {\"type\": \"nominal\", \"field\": \"Model\"}, \"x\": {\"type\": \"nominal\", \"axis\": {\"labelAngle\": 0, \"ticks\": false}, \"field\": \"Model\", \"sort\": [\"Flair-Baseline\", \"LUKE-Baseline\", \"LUKE-Custom\"]}, \"y\": {\"type\": \"quantitative\", \"axis\": {\"labelAngle\": 0}, \"field\": \"Score\", \"title\": \"F1 Score\"}}, \"height\": 300, \"width\": 225}, {\"mark\": {\"type\": \"text\", \"align\": \"center\", \"baseline\": \"top\", \"color\": \"white\", \"dy\": -10}, \"encoding\": {\"color\": {\"type\": \"nominal\", \"field\": \"Model\"}, \"text\": {\"type\": \"quantitative\", \"field\": \"Score\"}, \"x\": {\"type\": \"nominal\", \"axis\": {\"labelAngle\": 0, \"ticks\": false}, \"field\": \"Model\", \"sort\": [\"Flair-Baseline\", \"LUKE-Baseline\", \"LUKE-Custom\"]}, \"y\": {\"type\": \"quantitative\", \"axis\": {\"labelAngle\": 0}, \"field\": \"Score\", \"title\": \"F1 Score\"}}, \"height\": 300, \"width\": 225}]}, \"title\": \"CoNLL-2003 Test Results\", \"$schema\": \"https://vega.github.io/schema/vega-lite/v4.8.1.json\", \"datasets\": {\"data-e42d8723e29129babc81b8bbe586bded\": [{\"Model\": \"LUKE-Baseline\", \"Race\": \"Nan\", \"Test Set\": \"CoNLL-03 Test\", \"Metric\": \"F1 Weighted Average\", \"Score\": 0.9421}, {\"Model\": \"LUKE-Baseline\", \"Race\": \"Nan\", \"Test Set\": \"CoNLL-03 Test\", \"Metric\": \"F1-PER\", \"Score\": 0.9701}, {\"Model\": \"LUKE-Custom\", \"Race\": \"Nan\", \"Test Set\": \"CoNLL-03 Test\", \"Metric\": \"F1 Weighted Average\", \"Score\": 0.9184}, {\"Model\": \"LUKE-Custom\", \"Race\": \"Nan\", \"Test Set\": \"CoNLL-03 Test\", \"Metric\": \"F1-PER\", \"Score\": 0.9542}, {\"Model\": \"Flair-Baseline\", \"Race\": \"Nan\", \"Test Set\": \"CoNLL-03 Test\", \"Metric\": \"F1 Weighted Average\", \"Score\": 0.9118}, {\"Model\": \"Flair-Baseline\", \"Race\": \"Nan\", \"Test Set\": \"CoNLL-03 Test\", \"Metric\": \"F1-PER\", \"Score\": 0.9645}]}}, {\"mode\": \"vega-lite\"});\n",
       "</script>"
      ],
      "text/plain": [
       "alt.FacetChart(...)"
      ]
     },
     "execution_count": 15,
     "metadata": {},
     "output_type": "execute_result"
    }
   ],
   "source": [
    "conll_results"
   ]
  },
  {
   "cell_type": "code",
   "execution_count": null,
   "id": "5a53d353",
   "metadata": {},
   "outputs": [],
   "source": []
  }
 ],
 "metadata": {
  "kernelspec": {
   "display_name": "Python 3 (ipykernel)",
   "language": "python",
   "name": "python3"
  },
  "language_info": {
   "codemirror_mode": {
    "name": "ipython",
    "version": 3
   },
   "file_extension": ".py",
   "mimetype": "text/x-python",
   "name": "python",
   "nbconvert_exporter": "python",
   "pygments_lexer": "ipython3",
   "version": "3.8.0"
  }
 },
 "nbformat": 4,
 "nbformat_minor": 5
}

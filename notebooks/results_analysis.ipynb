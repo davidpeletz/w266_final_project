{
 "cells": [
  {
   "cell_type": "code",
   "execution_count": 1,
   "id": "ae192b33",
   "metadata": {},
   "outputs": [],
   "source": [
    "import pandas as pd\n",
    "import altair as alt"
   ]
  },
  {
   "cell_type": "code",
   "execution_count": 2,
   "id": "58d341a7",
   "metadata": {},
   "outputs": [],
   "source": [
    "results_df = pd.read_csv(\"../data/interim/results_table.csv\")"
   ]
  },
  {
   "cell_type": "code",
   "execution_count": 3,
   "id": "dac21736",
   "metadata": {},
   "outputs": [],
   "source": [
    "results_df[\"Score: \"] = pd.to_numeric(results_df[\"Score: \"]) \n",
    "results_df = results_df.rename(columns={\"Score: \": 'Score', 'Test Set:': 'Test Set', 'Race:':'Race', \n",
    "                                        \"Model: \":\"Model\", \"Metric:\": \"Metric\"})\n",
    "results_df[\"Metric\"] = results_df[\"Metric\"].apply(lambda x: \"F1 Weighted Average\" if str(x) == \"F1-weighted-avg\"else x)\n",
    "results_df[\"Race\"] = results_df[\"Race\"].apply(lambda x: str(x).title() if str(x) != 'api' else str(x).upper())\n",
    "baseline_results = results_df.loc[(results_df[\"Model\"] == \"LUKE-Baseline\") & (results_df[\"Test Set\"] != \"CoNLL-03 Test\")]\n",
    "custom_results = results_df.loc[(results_df[\"Model\"] == \"LUKE-Custom\") & (results_df[\"Test Set\"] != \"CoNLL-03 Test\")]"
   ]
  },
  {
   "cell_type": "code",
   "execution_count": 5,
   "id": "3f8b1016",
   "metadata": {},
   "outputs": [],
   "source": [
    "def plot_breakdown(input_df, title):\n",
    "    groups = [\"Best Performing Race Group\", \"Other 3 Race Groups\"]\n",
    "    scores = [list(input_df.loc[input_df[\"Race\"]==\"White\"][\"Score\"])[0], input_df.loc[input_df[\"Race\"]!=\"White\"][\"Score\"].mean()]\n",
    "    \n",
    "    df = pd.DataFrame(columns=[\"Group\", \"F1 Score\"])\n",
    "    df[\"Mean F1 Score\"] = scores\n",
    "    df[\"Group\"] = groups\n",
    "    \n",
    "    chart = alt.Chart(df).mark_bar().encode(\n",
    "    x=alt.X('Group:O', axis=alt.Axis(labelAngle=0, ticks=False), sort={\"encoding\":\"y\", \"order\":\"descending\"}),\n",
    "    y=alt.Y('Mean F1 Score:Q', axis=alt.Axis(labelAngle=0))\n",
    "    ).properties(width = 300, height = 300, title=title)\n",
    "\n",
    "    return chart"
   ]
  },
  {
   "cell_type": "code",
   "execution_count": 16,
   "id": "2b241854",
   "metadata": {
    "scrolled": true
   },
   "outputs": [
    {
     "data": {
      "text/html": [
       "\n",
       "<div id=\"altair-viz-9e3e419d4b5e4bf3be99f1576b63ad87\"></div>\n",
       "<script type=\"text/javascript\">\n",
       "  (function(spec, embedOpt){\n",
       "    let outputDiv = document.currentScript.previousElementSibling;\n",
       "    if (outputDiv.id !== \"altair-viz-9e3e419d4b5e4bf3be99f1576b63ad87\") {\n",
       "      outputDiv = document.getElementById(\"altair-viz-9e3e419d4b5e4bf3be99f1576b63ad87\");\n",
       "    }\n",
       "    const paths = {\n",
       "      \"vega\": \"https://cdn.jsdelivr.net/npm//vega@5?noext\",\n",
       "      \"vega-lib\": \"https://cdn.jsdelivr.net/npm//vega-lib?noext\",\n",
       "      \"vega-lite\": \"https://cdn.jsdelivr.net/npm//vega-lite@4.8.1?noext\",\n",
       "      \"vega-embed\": \"https://cdn.jsdelivr.net/npm//vega-embed@6?noext\",\n",
       "    };\n",
       "\n",
       "    function loadScript(lib) {\n",
       "      return new Promise(function(resolve, reject) {\n",
       "        var s = document.createElement('script');\n",
       "        s.src = paths[lib];\n",
       "        s.async = true;\n",
       "        s.onload = () => resolve(paths[lib]);\n",
       "        s.onerror = () => reject(`Error loading script: ${paths[lib]}`);\n",
       "        document.getElementsByTagName(\"head\")[0].appendChild(s);\n",
       "      });\n",
       "    }\n",
       "\n",
       "    function showError(err) {\n",
       "      outputDiv.innerHTML = `<div class=\"error\" style=\"color:red;\">${err}</div>`;\n",
       "      throw err;\n",
       "    }\n",
       "\n",
       "    function displayChart(vegaEmbed) {\n",
       "      vegaEmbed(outputDiv, spec, embedOpt)\n",
       "        .catch(err => showError(`Javascript Error: ${err.message}<br>This usually means there's a typo in your chart specification. See the javascript console for the full traceback.`));\n",
       "    }\n",
       "\n",
       "    if(typeof define === \"function\" && define.amd) {\n",
       "      requirejs.config({paths});\n",
       "      require([\"vega-embed\"], displayChart, err => showError(`Error loading script: ${err.message}`));\n",
       "    } else if (typeof vegaEmbed === \"function\") {\n",
       "      displayChart(vegaEmbed);\n",
       "    } else {\n",
       "      loadScript(\"vega\")\n",
       "        .then(() => loadScript(\"vega-lite\"))\n",
       "        .then(() => loadScript(\"vega-embed\"))\n",
       "        .catch(showError)\n",
       "        .then(() => displayChart(vegaEmbed));\n",
       "    }\n",
       "  })({\"config\": {\"view\": {\"continuousWidth\": 400, \"continuousHeight\": 300}}, \"data\": {\"name\": \"data-c1c73d8bb7fb2a5bb9009e6deee65758\"}, \"mark\": \"bar\", \"encoding\": {\"x\": {\"type\": \"ordinal\", \"axis\": {\"labelAngle\": 0, \"ticks\": false}, \"field\": \"Group\", \"sort\": {\"encoding\": \"y\", \"order\": \"descending\"}}, \"y\": {\"type\": \"quantitative\", \"axis\": {\"labelAngle\": 0}, \"field\": \"Mean F1 Score\"}}, \"height\": 300, \"title\": \"Baseline LUKE Results\", \"width\": 300, \"$schema\": \"https://vega.github.io/schema/vega-lite/v4.8.1.json\", \"datasets\": {\"data-c1c73d8bb7fb2a5bb9009e6deee65758\": [{\"Group\": \"Best Performing Race Group\", \"F1 Score\": null, \"Mean F1 Score\": 0.9836}, {\"Group\": \"Other 3 Race Groups\", \"F1 Score\": null, \"Mean F1 Score\": 0.8127}]}}, {\"mode\": \"vega-lite\"});\n",
       "</script>"
      ],
      "text/plain": [
       "alt.Chart(...)"
      ]
     },
     "execution_count": 16,
     "metadata": {},
     "output_type": "execute_result"
    }
   ],
   "source": [
    "plot_breakdown(baseline_results, \"Baseline LUKE Results\")"
   ]
  },
  {
   "cell_type": "code",
   "execution_count": 17,
   "id": "3902ee38",
   "metadata": {},
   "outputs": [
    {
     "data": {
      "text/html": [
       "\n",
       "<div id=\"altair-viz-4b23b21d46af4fc9937347e0500713f8\"></div>\n",
       "<script type=\"text/javascript\">\n",
       "  (function(spec, embedOpt){\n",
       "    let outputDiv = document.currentScript.previousElementSibling;\n",
       "    if (outputDiv.id !== \"altair-viz-4b23b21d46af4fc9937347e0500713f8\") {\n",
       "      outputDiv = document.getElementById(\"altair-viz-4b23b21d46af4fc9937347e0500713f8\");\n",
       "    }\n",
       "    const paths = {\n",
       "      \"vega\": \"https://cdn.jsdelivr.net/npm//vega@5?noext\",\n",
       "      \"vega-lib\": \"https://cdn.jsdelivr.net/npm//vega-lib?noext\",\n",
       "      \"vega-lite\": \"https://cdn.jsdelivr.net/npm//vega-lite@4.8.1?noext\",\n",
       "      \"vega-embed\": \"https://cdn.jsdelivr.net/npm//vega-embed@6?noext\",\n",
       "    };\n",
       "\n",
       "    function loadScript(lib) {\n",
       "      return new Promise(function(resolve, reject) {\n",
       "        var s = document.createElement('script');\n",
       "        s.src = paths[lib];\n",
       "        s.async = true;\n",
       "        s.onload = () => resolve(paths[lib]);\n",
       "        s.onerror = () => reject(`Error loading script: ${paths[lib]}`);\n",
       "        document.getElementsByTagName(\"head\")[0].appendChild(s);\n",
       "      });\n",
       "    }\n",
       "\n",
       "    function showError(err) {\n",
       "      outputDiv.innerHTML = `<div class=\"error\" style=\"color:red;\">${err}</div>`;\n",
       "      throw err;\n",
       "    }\n",
       "\n",
       "    function displayChart(vegaEmbed) {\n",
       "      vegaEmbed(outputDiv, spec, embedOpt)\n",
       "        .catch(err => showError(`Javascript Error: ${err.message}<br>This usually means there's a typo in your chart specification. See the javascript console for the full traceback.`));\n",
       "    }\n",
       "\n",
       "    if(typeof define === \"function\" && define.amd) {\n",
       "      requirejs.config({paths});\n",
       "      require([\"vega-embed\"], displayChart, err => showError(`Error loading script: ${err.message}`));\n",
       "    } else if (typeof vegaEmbed === \"function\") {\n",
       "      displayChart(vegaEmbed);\n",
       "    } else {\n",
       "      loadScript(\"vega\")\n",
       "        .then(() => loadScript(\"vega-lite\"))\n",
       "        .then(() => loadScript(\"vega-embed\"))\n",
       "        .catch(showError)\n",
       "        .then(() => displayChart(vegaEmbed));\n",
       "    }\n",
       "  })({\"config\": {\"view\": {\"continuousWidth\": 400, \"continuousHeight\": 300}}, \"data\": {\"name\": \"data-dcede5546ccfbe049acc685ac0edaf28\"}, \"mark\": \"bar\", \"encoding\": {\"x\": {\"type\": \"ordinal\", \"axis\": {\"labelAngle\": 0, \"ticks\": false}, \"field\": \"Group\", \"sort\": {\"encoding\": \"y\", \"order\": \"descending\"}}, \"y\": {\"type\": \"quantitative\", \"axis\": {\"labelAngle\": 0}, \"field\": \"Mean F1 Score\"}}, \"height\": 300, \"title\": \"Custom LUKE Results\", \"width\": 300, \"$schema\": \"https://vega.github.io/schema/vega-lite/v4.8.1.json\", \"datasets\": {\"data-dcede5546ccfbe049acc685ac0edaf28\": [{\"Group\": \"Best Performing Race Group\", \"F1 Score\": null, \"Mean F1 Score\": 0.9954}, {\"Group\": \"Other 3 Race Groups\", \"F1 Score\": null, \"Mean F1 Score\": 0.9543333333333334}]}}, {\"mode\": \"vega-lite\"});\n",
       "</script>"
      ],
      "text/plain": [
       "alt.Chart(...)"
      ]
     },
     "execution_count": 17,
     "metadata": {},
     "output_type": "execute_result"
    }
   ],
   "source": [
    "plot_breakdown(custom_results, \"Custom LUKE Results\")"
   ]
  },
  {
   "cell_type": "code",
   "execution_count": 7,
   "id": "d2f8cf78",
   "metadata": {},
   "outputs": [],
   "source": [
    "def plot_all_group_chart(input_df, title):\n",
    "    sort_order = [\"White\", \"Hispanic\", \"API\", \"Black\"]\n",
    "    chart = alt.Chart(input_df).mark_bar().encode(\n",
    "        x=alt.X('Race:O', axis=alt.Axis(labelAngle=0, ticks=False), sort=sort_order),\n",
    "        y=alt.Y('Score:Q', axis=alt.Axis(labelAngle=0), title=\"F1 Score\")\n",
    "    ).properties(width = 300, height = 300, title=title)\n",
    "    return chart"
   ]
  },
  {
   "cell_type": "code",
   "execution_count": 8,
   "id": "52481fae",
   "metadata": {},
   "outputs": [],
   "source": [
    "baseline_chart = plot_all_group_chart(baseline_results, \"Baseline LUKE Results\")\n",
    "custom_chart = plot_all_group_chart(custom_results, \"Custom LUKE Results\")"
   ]
  },
  {
   "cell_type": "code",
   "execution_count": 18,
   "id": "abd93f93",
   "metadata": {
    "scrolled": true
   },
   "outputs": [
    {
     "data": {
      "text/html": [
       "\n",
       "<div id=\"altair-viz-14c0e9df6af44b62a93b51d63b8b8cdb\"></div>\n",
       "<script type=\"text/javascript\">\n",
       "  (function(spec, embedOpt){\n",
       "    let outputDiv = document.currentScript.previousElementSibling;\n",
       "    if (outputDiv.id !== \"altair-viz-14c0e9df6af44b62a93b51d63b8b8cdb\") {\n",
       "      outputDiv = document.getElementById(\"altair-viz-14c0e9df6af44b62a93b51d63b8b8cdb\");\n",
       "    }\n",
       "    const paths = {\n",
       "      \"vega\": \"https://cdn.jsdelivr.net/npm//vega@5?noext\",\n",
       "      \"vega-lib\": \"https://cdn.jsdelivr.net/npm//vega-lib?noext\",\n",
       "      \"vega-lite\": \"https://cdn.jsdelivr.net/npm//vega-lite@4.8.1?noext\",\n",
       "      \"vega-embed\": \"https://cdn.jsdelivr.net/npm//vega-embed@6?noext\",\n",
       "    };\n",
       "\n",
       "    function loadScript(lib) {\n",
       "      return new Promise(function(resolve, reject) {\n",
       "        var s = document.createElement('script');\n",
       "        s.src = paths[lib];\n",
       "        s.async = true;\n",
       "        s.onload = () => resolve(paths[lib]);\n",
       "        s.onerror = () => reject(`Error loading script: ${paths[lib]}`);\n",
       "        document.getElementsByTagName(\"head\")[0].appendChild(s);\n",
       "      });\n",
       "    }\n",
       "\n",
       "    function showError(err) {\n",
       "      outputDiv.innerHTML = `<div class=\"error\" style=\"color:red;\">${err}</div>`;\n",
       "      throw err;\n",
       "    }\n",
       "\n",
       "    function displayChart(vegaEmbed) {\n",
       "      vegaEmbed(outputDiv, spec, embedOpt)\n",
       "        .catch(err => showError(`Javascript Error: ${err.message}<br>This usually means there's a typo in your chart specification. See the javascript console for the full traceback.`));\n",
       "    }\n",
       "\n",
       "    if(typeof define === \"function\" && define.amd) {\n",
       "      requirejs.config({paths});\n",
       "      require([\"vega-embed\"], displayChart, err => showError(`Error loading script: ${err.message}`));\n",
       "    } else if (typeof vegaEmbed === \"function\") {\n",
       "      displayChart(vegaEmbed);\n",
       "    } else {\n",
       "      loadScript(\"vega\")\n",
       "        .then(() => loadScript(\"vega-lite\"))\n",
       "        .then(() => loadScript(\"vega-embed\"))\n",
       "        .catch(showError)\n",
       "        .then(() => displayChart(vegaEmbed));\n",
       "    }\n",
       "  })({\"config\": {\"view\": {\"continuousWidth\": 400, \"continuousHeight\": 300}}, \"data\": {\"name\": \"data-eff11963ab2e8b14b40920e7a817d803\"}, \"mark\": \"bar\", \"encoding\": {\"x\": {\"type\": \"ordinal\", \"axis\": {\"labelAngle\": 0, \"ticks\": false}, \"field\": \"Race\", \"sort\": [\"White\", \"Hispanic\", \"API\", \"Black\"]}, \"y\": {\"type\": \"quantitative\", \"axis\": {\"labelAngle\": 0}, \"field\": \"Score\", \"title\": \"F1 Score\"}}, \"height\": 300, \"title\": \"Baseline LUKE Results\", \"width\": 300, \"$schema\": \"https://vega.github.io/schema/vega-lite/v4.8.1.json\", \"datasets\": {\"data-eff11963ab2e8b14b40920e7a817d803\": [{\"Model\": \"LUKE-Baseline\", \"Race\": \"White\", \"Test Set\": \"curated-test-white\", \"Metric\": \"F1-PER\", \"Score\": 0.9836}, {\"Model\": \"LUKE-Baseline\", \"Race\": \"Black\", \"Test Set\": \"curated-test-black\", \"Metric\": \"F1-PER\", \"Score\": 0.7604}, {\"Model\": \"LUKE-Baseline\", \"Race\": \"API\", \"Test Set\": \"curated-test-api\", \"Metric\": \"F1-PER\", \"Score\": 0.7832}, {\"Model\": \"LUKE-Baseline\", \"Race\": \"Hispanic\", \"Test Set\": \"curated-test-hispanic\", \"Metric\": \"F1-PER\", \"Score\": 0.8945}]}}, {\"mode\": \"vega-lite\"});\n",
       "</script>"
      ],
      "text/plain": [
       "alt.Chart(...)"
      ]
     },
     "execution_count": 18,
     "metadata": {},
     "output_type": "execute_result"
    }
   ],
   "source": [
    "baseline_chart"
   ]
  },
  {
   "cell_type": "code",
   "execution_count": 19,
   "id": "931175f2",
   "metadata": {},
   "outputs": [
    {
     "data": {
      "text/html": [
       "\n",
       "<div id=\"altair-viz-a6e2ae42384a454993398ddc25e98654\"></div>\n",
       "<script type=\"text/javascript\">\n",
       "  (function(spec, embedOpt){\n",
       "    let outputDiv = document.currentScript.previousElementSibling;\n",
       "    if (outputDiv.id !== \"altair-viz-a6e2ae42384a454993398ddc25e98654\") {\n",
       "      outputDiv = document.getElementById(\"altair-viz-a6e2ae42384a454993398ddc25e98654\");\n",
       "    }\n",
       "    const paths = {\n",
       "      \"vega\": \"https://cdn.jsdelivr.net/npm//vega@5?noext\",\n",
       "      \"vega-lib\": \"https://cdn.jsdelivr.net/npm//vega-lib?noext\",\n",
       "      \"vega-lite\": \"https://cdn.jsdelivr.net/npm//vega-lite@4.8.1?noext\",\n",
       "      \"vega-embed\": \"https://cdn.jsdelivr.net/npm//vega-embed@6?noext\",\n",
       "    };\n",
       "\n",
       "    function loadScript(lib) {\n",
       "      return new Promise(function(resolve, reject) {\n",
       "        var s = document.createElement('script');\n",
       "        s.src = paths[lib];\n",
       "        s.async = true;\n",
       "        s.onload = () => resolve(paths[lib]);\n",
       "        s.onerror = () => reject(`Error loading script: ${paths[lib]}`);\n",
       "        document.getElementsByTagName(\"head\")[0].appendChild(s);\n",
       "      });\n",
       "    }\n",
       "\n",
       "    function showError(err) {\n",
       "      outputDiv.innerHTML = `<div class=\"error\" style=\"color:red;\">${err}</div>`;\n",
       "      throw err;\n",
       "    }\n",
       "\n",
       "    function displayChart(vegaEmbed) {\n",
       "      vegaEmbed(outputDiv, spec, embedOpt)\n",
       "        .catch(err => showError(`Javascript Error: ${err.message}<br>This usually means there's a typo in your chart specification. See the javascript console for the full traceback.`));\n",
       "    }\n",
       "\n",
       "    if(typeof define === \"function\" && define.amd) {\n",
       "      requirejs.config({paths});\n",
       "      require([\"vega-embed\"], displayChart, err => showError(`Error loading script: ${err.message}`));\n",
       "    } else if (typeof vegaEmbed === \"function\") {\n",
       "      displayChart(vegaEmbed);\n",
       "    } else {\n",
       "      loadScript(\"vega\")\n",
       "        .then(() => loadScript(\"vega-lite\"))\n",
       "        .then(() => loadScript(\"vega-embed\"))\n",
       "        .catch(showError)\n",
       "        .then(() => displayChart(vegaEmbed));\n",
       "    }\n",
       "  })({\"config\": {\"view\": {\"continuousWidth\": 400, \"continuousHeight\": 300}}, \"data\": {\"name\": \"data-ad0b87c98ebbc6ea483063c7f56edb45\"}, \"mark\": \"bar\", \"encoding\": {\"x\": {\"type\": \"ordinal\", \"axis\": {\"labelAngle\": 0, \"ticks\": false}, \"field\": \"Race\", \"sort\": [\"White\", \"Hispanic\", \"API\", \"Black\"]}, \"y\": {\"type\": \"quantitative\", \"axis\": {\"labelAngle\": 0}, \"field\": \"Score\", \"title\": \"F1 Score\"}}, \"height\": 300, \"title\": \"Custom LUKE Results\", \"width\": 300, \"$schema\": \"https://vega.github.io/schema/vega-lite/v4.8.1.json\", \"datasets\": {\"data-ad0b87c98ebbc6ea483063c7f56edb45\": [{\"Model\": \"LUKE-Custom\", \"Race\": \"White\", \"Test Set\": \"curated-test-white\", \"Metric\": \"F1-PER\", \"Score\": 0.9954}, {\"Model\": \"LUKE-Custom\", \"Race\": \"Black\", \"Test Set\": \"curated-test-black\", \"Metric\": \"F1-PER\", \"Score\": 0.9109999999999999}, {\"Model\": \"LUKE-Custom\", \"Race\": \"API\", \"Test Set\": \"curated-test-api\", \"Metric\": \"F1-PER\", \"Score\": 0.9873}, {\"Model\": \"LUKE-Custom\", \"Race\": \"Hispanic\", \"Test Set\": \"curated-test-hispanic\", \"Metric\": \"F1-PER\", \"Score\": 0.9647}]}}, {\"mode\": \"vega-lite\"});\n",
       "</script>"
      ],
      "text/plain": [
       "alt.Chart(...)"
      ]
     },
     "execution_count": 19,
     "metadata": {},
     "output_type": "execute_result"
    }
   ],
   "source": [
    "custom_chart"
   ]
  },
  {
   "cell_type": "code",
   "execution_count": 20,
   "id": "1f64af40",
   "metadata": {},
   "outputs": [],
   "source": [
    "def plot_conll_results(input_df):\n",
    "    conll_results = input_df.loc[(results_df[\"Test Set\"] == \"CoNLL-03 Test\")]\n",
    "    chart = alt.Chart(conll_results).mark_bar().encode(\n",
    "    x=alt.X('Model:N', axis=alt.Axis(labelAngle=0, ticks=False)),\n",
    "    y=alt.Y('Score:Q', axis=alt.Axis(labelAngle=0), title=\"F1 Score\"), \n",
    "    color=alt.Color(\"Model:N\"), \n",
    "    column=alt.Column(\"Metric:N\", title=\"Metric\")\n",
    ").properties(width = 150, height = 300, title=\"CoNLL-2003 Test Results\")\n",
    "    return chart"
   ]
  },
  {
   "cell_type": "code",
   "execution_count": 21,
   "id": "af8a2aba",
   "metadata": {},
   "outputs": [],
   "source": [
    "conll_results = plot_conll_results(results_df)"
   ]
  },
  {
   "cell_type": "code",
   "execution_count": 22,
   "id": "496d8b4f",
   "metadata": {},
   "outputs": [
    {
     "data": {
      "text/html": [
       "\n",
       "<div id=\"altair-viz-6504f4548bf34cc08185ef463c4c44f0\"></div>\n",
       "<script type=\"text/javascript\">\n",
       "  (function(spec, embedOpt){\n",
       "    let outputDiv = document.currentScript.previousElementSibling;\n",
       "    if (outputDiv.id !== \"altair-viz-6504f4548bf34cc08185ef463c4c44f0\") {\n",
       "      outputDiv = document.getElementById(\"altair-viz-6504f4548bf34cc08185ef463c4c44f0\");\n",
       "    }\n",
       "    const paths = {\n",
       "      \"vega\": \"https://cdn.jsdelivr.net/npm//vega@5?noext\",\n",
       "      \"vega-lib\": \"https://cdn.jsdelivr.net/npm//vega-lib?noext\",\n",
       "      \"vega-lite\": \"https://cdn.jsdelivr.net/npm//vega-lite@4.8.1?noext\",\n",
       "      \"vega-embed\": \"https://cdn.jsdelivr.net/npm//vega-embed@6?noext\",\n",
       "    };\n",
       "\n",
       "    function loadScript(lib) {\n",
       "      return new Promise(function(resolve, reject) {\n",
       "        var s = document.createElement('script');\n",
       "        s.src = paths[lib];\n",
       "        s.async = true;\n",
       "        s.onload = () => resolve(paths[lib]);\n",
       "        s.onerror = () => reject(`Error loading script: ${paths[lib]}`);\n",
       "        document.getElementsByTagName(\"head\")[0].appendChild(s);\n",
       "      });\n",
       "    }\n",
       "\n",
       "    function showError(err) {\n",
       "      outputDiv.innerHTML = `<div class=\"error\" style=\"color:red;\">${err}</div>`;\n",
       "      throw err;\n",
       "    }\n",
       "\n",
       "    function displayChart(vegaEmbed) {\n",
       "      vegaEmbed(outputDiv, spec, embedOpt)\n",
       "        .catch(err => showError(`Javascript Error: ${err.message}<br>This usually means there's a typo in your chart specification. See the javascript console for the full traceback.`));\n",
       "    }\n",
       "\n",
       "    if(typeof define === \"function\" && define.amd) {\n",
       "      requirejs.config({paths});\n",
       "      require([\"vega-embed\"], displayChart, err => showError(`Error loading script: ${err.message}`));\n",
       "    } else if (typeof vegaEmbed === \"function\") {\n",
       "      displayChart(vegaEmbed);\n",
       "    } else {\n",
       "      loadScript(\"vega\")\n",
       "        .then(() => loadScript(\"vega-lite\"))\n",
       "        .then(() => loadScript(\"vega-embed\"))\n",
       "        .catch(showError)\n",
       "        .then(() => displayChart(vegaEmbed));\n",
       "    }\n",
       "  })({\"config\": {\"view\": {\"continuousWidth\": 400, \"continuousHeight\": 300}}, \"data\": {\"name\": \"data-32c5277e45d180f420b81f5429b2e3b1\"}, \"mark\": \"bar\", \"encoding\": {\"color\": {\"type\": \"nominal\", \"field\": \"Model\"}, \"column\": {\"type\": \"nominal\", \"field\": \"Metric\", \"title\": \"Metric\"}, \"x\": {\"type\": \"nominal\", \"axis\": {\"labelAngle\": 0, \"ticks\": false}, \"field\": \"Model\"}, \"y\": {\"type\": \"quantitative\", \"axis\": {\"labelAngle\": 0}, \"field\": \"Score\", \"title\": \"F1 Score\"}}, \"height\": 300, \"title\": \"CoNLL-2003 Test Results\", \"width\": 150, \"$schema\": \"https://vega.github.io/schema/vega-lite/v4.8.1.json\", \"datasets\": {\"data-32c5277e45d180f420b81f5429b2e3b1\": [{\"Model\": \"LUKE-Baseline\", \"Race\": \"Nan\", \"Test Set\": \"CoNLL-03 Test\", \"Metric\": \"F1 Weighted Average\", \"Score\": 0.9421}, {\"Model\": \"LUKE-Baseline\", \"Race\": \"Nan\", \"Test Set\": \"CoNLL-03 Test\", \"Metric\": \"F1-PER\", \"Score\": 0.9701}, {\"Model\": \"LUKE-Custom\", \"Race\": \"Nan\", \"Test Set\": \"CoNLL-03 Test\", \"Metric\": \"F1 Weighted Average\", \"Score\": 0.9184}, {\"Model\": \"LUKE-Custom\", \"Race\": \"Nan\", \"Test Set\": \"CoNLL-03 Test\", \"Metric\": \"F1-PER\", \"Score\": 0.9542}]}}, {\"mode\": \"vega-lite\"});\n",
       "</script>"
      ],
      "text/plain": [
       "alt.Chart(...)"
      ]
     },
     "execution_count": 22,
     "metadata": {},
     "output_type": "execute_result"
    }
   ],
   "source": [
    "conll_results"
   ]
  },
  {
   "cell_type": "code",
   "execution_count": null,
   "id": "cd3360a7",
   "metadata": {},
   "outputs": [],
   "source": []
  }
 ],
 "metadata": {
  "kernelspec": {
   "display_name": "Python 3 (ipykernel)",
   "language": "python",
   "name": "python3"
  },
  "language_info": {
   "codemirror_mode": {
    "name": "ipython",
    "version": 3
   },
   "file_extension": ".py",
   "mimetype": "text/x-python",
   "name": "python",
   "nbconvert_exporter": "python",
   "pygments_lexer": "ipython3",
   "version": "3.8.0"
  }
 },
 "nbformat": 4,
 "nbformat_minor": 5
}

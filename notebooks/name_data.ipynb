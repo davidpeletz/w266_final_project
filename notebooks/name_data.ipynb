{
 "cells": [
  {
   "cell_type": "code",
   "execution_count": 75,
   "id": "34995b2a",
   "metadata": {},
   "outputs": [],
   "source": [
    "import requests\n",
    "import pandas as pd"
   ]
  },
  {
   "cell_type": "code",
   "execution_count": 76,
   "id": "90b7d836",
   "metadata": {},
   "outputs": [],
   "source": [
    "URL = \"https://namecensus.com/data/black.html\"\n",
    "r = requests.get(URL)\n",
    "df_list = pd.read_html(r.text) # this parses all the tables in webpages to a list\n",
    "black_df = df_list[0]\n",
    "black_df.columns = black_df.iloc[0]\n",
    "black_df = black_df.drop(black_df.index[0])\n",
    "black_df[\"% of people with surname self-identifying as 'black'\"] = black_df[\"% of people with surname self-identifying as 'black'\"].apply(lambda x: float(x[:-1]))\n",
    "black_df = black_df.sort_values(by=[\"% of people with surname self-identifying as 'black'\", \"Surname rank among blacks\"], ascending=[False, True])\n",
    "black_df[\"Last name / Surname\"] = black_df[\"Last name / Surname\"].apply(lambda x: str(x).title())"
   ]
  },
  {
   "cell_type": "code",
   "execution_count": 77,
   "id": "5168c460",
   "metadata": {},
   "outputs": [],
   "source": [
    "black_df[\"Given Race\"] = \"Black\"\n",
    "black_df = black_df.rename(columns={\"Number of occurrences among people self-identifying as 'black'\": 'Number of occurences among people self-identifying as given race', \n",
    "                                      'Surname rank among blacks': 'Surname rank among given race', \n",
    "                                      \"% of people with surname self-identifying as 'black'\": \"% of people with surname self-identifying as given race\"})\n"
   ]
  },
  {
   "cell_type": "code",
   "execution_count": 78,
   "id": "22769d60",
   "metadata": {},
   "outputs": [],
   "source": [
    "URL = \"https://namecensus.com/data/white.html\"\n",
    "r = requests.get(URL)\n",
    "df_list = pd.read_html(r.text) # this parses all the tables in webpages to a list\n",
    "white_df = df_list[0]\n",
    "white_df.columns = white_df.iloc[0]\n",
    "white_df = white_df.drop(white_df.index[0])\n",
    "white_df[\"Number of occurrences among people self-identifying as \\'white\\'\"] = white_df[\"Number of occurrences among people self-identifying as \\'white\\'\"].apply(lambda x: float(x))\n",
    "white_df[\"% of people with surname self-identifying as 'white'\"] = white_df[\"% of people with surname self-identifying as 'white'\"].apply(lambda x: float(x[:-1]))\n",
    "white_df = white_df.sort_values(by=[\"% of people with surname self-identifying as 'white'\", \"Surname rank among whites\"], ascending=[False, True])\n",
    "white_df[\"Last name / Surname\"] = white_df[\"Last name / Surname\"].apply(lambda x: str(x).title())"
   ]
  },
  {
   "cell_type": "code",
   "execution_count": 79,
   "id": "4906e000",
   "metadata": {},
   "outputs": [],
   "source": [
    "white_df[\"Given Race\"] = \"White\"\n",
    "white_df = white_df.rename(columns={\"Number of occurrences among people self-identifying as 'white'\": 'Number of occurences among people self-identifying as given race', \n",
    "                                      'Surname rank among whites': 'Surname rank among given race', \n",
    "                                      \"% of people with surname self-identifying as 'white'\": \"% of people with surname self-identifying as given race\"})\n"
   ]
  },
  {
   "cell_type": "code",
   "execution_count": 80,
   "id": "f7b07d62",
   "metadata": {},
   "outputs": [],
   "source": [
    "URL = \"https://namecensus.com/data/hispanic.html\"\n",
    "r = requests.get(URL)\n",
    "df_list = pd.read_html(r.text) # this parses all the tables in webpages to a list\n",
    "hispanic_df = df_list[0]\n",
    "hispanic_df.columns = hispanic_df.iloc[0]\n",
    "hispanic_df = hispanic_df.drop(hispanic_df.index[0])\n",
    "hispanic_df[\"Number of occurrences among people self-identifying as \\'Hispanic\\'\"] = hispanic_df[\"Number of occurrences among people self-identifying as \\'Hispanic\\'\"].apply(lambda x: float(x))\n",
    "hispanic_df[\"% of people with surname self-identifying as 'hispanic'\"] = hispanic_df[\"% of people with surname self-identifying as 'hispanic'\"].apply(lambda x: float(x[:-1]))\n",
    "hispanic_df = hispanic_df.sort_values(by=[\"% of people with surname self-identifying as 'hispanic'\", \"Surname rank among hispanics\"], ascending=[False, True])\n",
    "hispanic_df[\"Last name / Surname\"] = hispanic_df[\"Last name / Surname\"].apply(lambda x: str(x).title())"
   ]
  },
  {
   "cell_type": "code",
   "execution_count": 81,
   "id": "9aae73ea",
   "metadata": {},
   "outputs": [],
   "source": [
    "hispanic_df[\"Given Race\"] = \"Hispanic\"\n",
    "hispanic_df = hispanic_df.rename(columns={\"Number of occurrences among people self-identifying as 'Hispanic'\": 'Number of occurences among people self-identifying as given race', \n",
    "                                      'Surname rank among hispanics': 'Surname rank among given race', \n",
    "                                      \"% of people with surname self-identifying as 'hispanic'\": \"% of people with surname self-identifying as given race\"})\n"
   ]
  },
  {
   "cell_type": "code",
   "execution_count": 82,
   "id": "e3493c3c",
   "metadata": {},
   "outputs": [],
   "source": [
    "URL = \"https://namecensus.com/data/asian_pacific_islander.html\"\n",
    "r = requests.get(URL)\n",
    "df_list = pd.read_html(r.text) # this parses all the tables in webpages to a list\n",
    "aapi_df = df_list[0]\n",
    "aapi_df.columns = aapi_df.iloc[0]\n",
    "aapi_df = aapi_df.drop(aapi_df.index[0])\n",
    "aapi_df[\"Number of occurrences among people self-identifying as Asian & Pacific Islander\"] = aapi_df[\"Number of occurrences among people self-identifying as Asian & Pacific Islander\"].apply(lambda x: float(x))\n",
    "aapi_df[\"% of people with surname self-identifying as 'Asian & Pacific Islander'\"] = aapi_df[\"% of people with surname self-identifying as 'Asian & Pacific Islander'\"].apply(lambda x: float(x[:-1]))\n",
    "aapi_df = aapi_df.sort_values(by=[\"% of people with surname self-identifying as 'Asian & Pacific Islander'\", \"Surname rank among Asians & Pacific Islanders\"], ascending=[False, True])\n",
    "aapi_df[\"Last name / Surname\"] = aapi_df[\"Last name / Surname\"].apply(lambda x: str(x).title())"
   ]
  },
  {
   "cell_type": "code",
   "execution_count": 83,
   "id": "4a495552",
   "metadata": {},
   "outputs": [],
   "source": [
    "aapi_df[\"Given Race\"] = \"Asian & Pacific Islander\"\n",
    "aapi_df = aapi_df.rename(columns={'Number of occurrences among people self-identifying as Asian & Pacific Islander': 'Number of occurences among people self-identifying as given race', \n",
    "                                      'Surname rank among Asians & Pacific Islanders': 'Surname rank among given race', \n",
    "                                      \"% of people with surname self-identifying as 'Asian & Pacific Islander'\": \"% of people with surname self-identifying as given race\"})\n"
   ]
  },
  {
   "cell_type": "code",
   "execution_count": 84,
   "id": "d1f40929",
   "metadata": {},
   "outputs": [],
   "source": [
    "URL = \"https://namecensus.com/data/indians.html\"\n",
    "r = requests.get(URL)\n",
    "df_list = pd.read_html(r.text) # this parses all the tables in webpages to a list\n",
    "indian_df = df_list[0]\n",
    "indian_df.columns = indian_df.iloc[0]\n",
    "indian_df = indian_df.drop(indian_df.index[0])\n",
    "indian_df[\"Number of occurences among people self-identifying as American Indian & Alaskan Native\"] = indian_df[\"Number of occurences among people self-identifying as American Indian & Alaskan Native\"].apply(lambda x: float(x))\n",
    "indian_df[\"% of people with surname self-identifying as 'American Indian & Alaskan Native'\"] = indian_df[\"% of people with surname self-identifying as 'American Indian & Alaskan Native'\"].apply(lambda x: float(x[:-1]))\n",
    "indian_df = indian_df.sort_values(by=[\"% of people with surname self-identifying as 'American Indian & Alaskan Native'\", \"Surname rank among American Indians & Alaskan Natives\"], ascending=[False, True])\n",
    "indian_df[\"Last name / Surname\"] = indian_df[\"Last name / Surname\"].apply(lambda x: str(x).title())"
   ]
  },
  {
   "cell_type": "code",
   "execution_count": 85,
   "id": "08151801",
   "metadata": {},
   "outputs": [],
   "source": [
    "indian_df[\"Given Race\"] = \"American Indian & Alaskan Native\"\n",
    "indian_df = indian_df.rename(columns={'Number of occurences among people self-identifying as American Indian & Alaskan Native': 'Number of occurences among people self-identifying as given race', \n",
    "                                      'Surname rank among American Indians & Alaskan Natives': 'Surname rank among given race', \n",
    "                                      \"% of people with surname self-identifying as 'American Indian & Alaskan Native'\": \"% of people with surname self-identifying as given race\"})\n"
   ]
  },
  {
   "cell_type": "code",
   "execution_count": 86,
   "id": "9730c6c3",
   "metadata": {},
   "outputs": [],
   "source": [
    "URL = \"https://namecensus.com/data/two_race.html\"\n",
    "r = requests.get(URL)\n",
    "df_list = pd.read_html(r.text) # this parses all the tables in webpages to a list\n",
    "multi_race_df = df_list[0]\n",
    "multi_race_df.columns = multi_race_df.iloc[0]\n",
    "multi_race_df = multi_race_df.drop(multi_race_df.index[0])\n",
    "multi_race_df[\"2 or More Races\"] = multi_race_df[\"2 or More Races\"].apply(lambda x: float(x))\n",
    "multi_race_df[\"% of people with surname self-identifying as 'two or more races'\"] = multi_race_df[\"% of people with surname self-identifying as 'two or more races'\"].apply(lambda x: float(x[:-1]))\n",
    "multi_race_df = multi_race_df.sort_values(by=[\"% of people with surname self-identifying as 'two or more races'\", \"Surname rank among 'two or more races'\"], ascending=[False, True])\n",
    "multi_race_df[\"Last name / Surname\"] = multi_race_df[\"Last name / Surname\"].apply(lambda x: str(x).title())"
   ]
  },
  {
   "cell_type": "code",
   "execution_count": 87,
   "id": "6511c56a",
   "metadata": {},
   "outputs": [],
   "source": [
    "multi_race_df[\"Given Race\"] = \"Multi-Race\"\n",
    "multi_race_df = multi_race_df.rename(columns={'2 or More Races': 'Number of occurences among people self-identifying as given race', \n",
    "                                      \"Surname rank among 'two or more races'\": 'Surname rank among given race', \n",
    "                                      \"% of people with surname self-identifying as 'two or more races'\": \"% of people with surname self-identifying as given race\"})\n"
   ]
  },
  {
   "cell_type": "code",
   "execution_count": 89,
   "id": "b4f1f3ab",
   "metadata": {},
   "outputs": [],
   "source": [
    "white_df = white_df[:100]\n",
    "black_df = black_df[:100]\n",
    "hispanic_df = hispanic_df[:100]\n",
    "indian_df = indian_df[:100]\n",
    "aapi_df = aapi_df[:100]\n",
    "df_list = [white_df, black_df, hispanic_df, indian_df, aapi_df]"
   ]
  },
  {
   "cell_type": "code",
   "execution_count": 92,
   "id": "920d870d",
   "metadata": {},
   "outputs": [],
   "source": [
    "whole_last_name_df = pd.concat(df_list).reset_index(drop=True)"
   ]
  },
  {
   "cell_type": "code",
   "execution_count": 94,
   "id": "92c20e59",
   "metadata": {},
   "outputs": [],
   "source": [
    "whole_last_name_df.to_csv(\"whole_last_name_df.csv\")"
   ]
  },
  {
   "cell_type": "markdown",
   "id": "0fa2bd60",
   "metadata": {},
   "source": [
    "# NER Ideas to Implement"
   ]
  },
  {
   "cell_type": "markdown",
   "id": "3c1a6bb0",
   "metadata": {},
   "source": [
    "- nltk\n",
    "- BERT\n",
    "- RoBERTa\n",
    "- ELMO\n",
    "- spacy\n",
    "- fasttext\n",
    "- allennlp"
   ]
  },
  {
   "cell_type": "code",
   "execution_count": 8,
   "id": "cf0f2b29",
   "metadata": {},
   "outputs": [],
   "source": [
    "from transformers import AutoTokenizer, AutoModelForTokenClassification\n",
    "from transformers import pipeline\n",
    "import nltk"
   ]
  },
  {
   "cell_type": "code",
   "execution_count": 9,
   "id": "c1cbf74b",
   "metadata": {},
   "outputs": [],
   "source": [
    "def preprocess(sent):\n",
    "    sent = nltk.word_tokenize(sent)\n",
    "    sent = nltk.pos_tag(sent)\n",
    "    return sent\n"
   ]
  },
  {
   "cell_type": "code",
   "execution_count": 10,
   "id": "1492df93",
   "metadata": {},
   "outputs": [],
   "source": [
    "tokenizer = AutoTokenizer.from_pretrained(\"dslim/bert-base-NER\")\n",
    "model = AutoModelForTokenClassification.from_pretrained(\"dslim/bert-base-NER\")"
   ]
  },
  {
   "cell_type": "code",
   "execution_count": 11,
   "id": "e85202c9",
   "metadata": {
    "scrolled": false
   },
   "outputs": [
    {
     "name": "stdout",
     "output_type": "stream",
     "text": [
      "[{'entity': 'B-PER', 'score': 0.9997697, 'index': 1, 'word': 'Jorge', 'start': 0, 'end': 5}, {'entity': 'I-PER', 'score': 0.99976504, 'index': 2, 'word': 'G', 'start': 6, 'end': 7}, {'entity': 'I-PER', 'score': 0.99936855, 'index': 3, 'word': '##uti', 'start': 7, 'end': 10}, {'entity': 'I-PER', 'score': 0.9989778, 'index': 4, 'word': '##er', 'start': 10, 'end': 12}, {'entity': 'I-PER', 'score': 0.9912559, 'index': 5, 'word': '##rez', 'start': 12, 'end': 15}]\n"
     ]
    }
   ],
   "source": [
    "nlp = pipeline(\"ner\", model=model, tokenizer=tokenizer)\n",
    "example = \"Jorge Gutierrez\"\n",
    "\n",
    "ner_results = nlp(example)\n",
    "print(ner_results)\n"
   ]
  },
  {
   "cell_type": "code",
   "execution_count": null,
   "id": "34340675",
   "metadata": {},
   "outputs": [],
   "source": [
    "from transformers import LukeTokenizer, LukeForEntitySpanClassification\n",
    "\n",
    "tokenizer = LukeTokenizer.from_pretrained(\"studio-ousia/luke-large-finetuned-conll-2003\")\n",
    "model = LukeForEntitySpanClassification.from_pretrained(\"studio-ousia/luke-large-finetuned-conll-2003\")\n",
    "\n",
    "text = \"Beyoncé lives in Los Angeles\"\n",
    "\n",
    "# List all possible entity spans in the text\n",
    "word_start_positions = [0, 8, 14, 17, 21]  # character-based start positions of word tokens\n",
    "word_end_positions = [7, 13, 16, 20, 28]  # character-based end positions of word tokens\n",
    "entity_spans = []\n",
    "for i, start_pos in enumerate(word_start_positions):\n",
    "    for end_pos in word_end_positions[i:]:\n",
    "        entity_spans.append((start_pos, end_pos))\n",
    "\n",
    "inputs = tokenizer(text, entity_spans=entity_spans, return_tensors=\"pt\")\n",
    "outputs = model(**inputs)\n",
    "logits = outputs.logits\n",
    "predicted_class_indices = logits.argmax(-1).squeeze().tolist()\n",
    "for span, predicted_class_idx in zip(entity_spans, predicted_class_indices):\n",
    "    if predicted_class_idx != 0:\n",
    "        print(text[span[0]:span[1]], model.config.id2label[predicted_class_idx])\n"
   ]
  },
  {
   "cell_type": "markdown",
   "id": "ec8fe30b",
   "metadata": {},
   "source": [
    "### "
   ]
  },
  {
   "cell_type": "code",
   "execution_count": null,
   "id": "7ebd7e9b",
   "metadata": {},
   "outputs": [],
   "source": [
    "# from transformers import TFAutoModelForTokenClassification, AutoTokenizer\n",
    "# import tensorflow as tf\n",
    "\n",
    "# model = TFAutoModelForTokenClassification.from_pretrained(\"dbmdz/bert-large-cased-finetuned-conll03-english\")\n",
    "# tokenizer = AutoTokenizer.from_pretrained(\"bert-base-cased\")\n",
    "\n",
    "# label_list = [\n",
    "#     \"O\",       # Outside of a named entity\n",
    "#     \"B-MISC\",  # Beginning of a miscellaneous entity right after another miscellaneous entity\n",
    "#     \"I-MISC\",  # Miscellaneous entity\n",
    "#     \"B-PER\",   # Beginning of a person's name right after another person's name\n",
    "#     \"I-PER\",   # Person's name\n",
    "#     \"B-ORG\",   # Beginning of an organisation right after another organisation\n",
    "#     \"I-ORG\",   # Organisation\n",
    "#     \"B-LOC\",   # Beginning of a location right after another location\n",
    "#     \"I-LOC\"    # Location\n",
    "# ]\n",
    "\n",
    "# sequence = \"Hugging Face Inc. is a company based in New York City. Its headquarters are in DUMBO, therefore very\" \\\n",
    "#            \"close to the Manhattan Bridge.\"\n",
    "\n",
    "# # Bit of a hack to get the tokens with the special tokens\n",
    "# tokens = tokenizer.tokenize(tokenizer.decode(tokenizer.encode(sequence)))\n",
    "# inputs = tokenizer.encode(sequence, return_tensors=\"tf\")\n",
    "\n",
    "# outputs = model(inputs)[0]\n",
    "# predictions = tf.argmax(outputs, axis=2)\n",
    "\n",
    "# print([(token, label_list[prediction]) for token, prediction in zip(tokens, predictions[0].numpy())])\n"
   ]
  },
  {
   "cell_type": "markdown",
   "id": "a7d22113",
   "metadata": {},
   "source": [
    "### displacy"
   ]
  },
  {
   "cell_type": "code",
   "execution_count": null,
   "id": "f53a13ba",
   "metadata": {},
   "outputs": [],
   "source": [
    "import spacy\n",
    "nlp = spacy.load('en_core_web_sm')"
   ]
  },
  {
   "cell_type": "code",
   "execution_count": null,
   "id": "f1d8d329",
   "metadata": {
    "scrolled": false
   },
   "outputs": [],
   "source": [
    "# import spacy\n",
    "# from spacy.tokens import Span\n",
    "\n",
    "# nlp = spacy.load(\"en_core_web_sm\")\n",
    "# doc = nlp(\"fb is hiring a new vice president of global policy\")\n",
    "# ents = [(e.text, e.start_char, e.end_char, e.label_) for e in doc.ents]\n",
    "# print('Before', ents)\n",
    "# # The model didn't recognize \"fb\" as an entity :(\n",
    "\n",
    "# # Create a span for the new entity\n",
    "# fb_ent = Span(doc, 0, 1, label=\"ORG\")\n",
    "# orig_ents = list(doc.ents)\n",
    "\n",
    "# # Option 1: Modify the provided entity spans, leaving the rest unmodified\n",
    "# doc.set_ents([fb_ent], default=\"unmodified\")\n",
    "\n",
    "# # Option 2: Assign a complete list of ents to doc.ents\n",
    "# doc.ents = orig_ents + [fb_ent]\n",
    "\n",
    "# ents = [(e.text, e.start, e.end, e.label_) for e in doc.ents]\n",
    "# print('After', ents)\n",
    "# # [('fb', 0, 1, 'ORG')] "
   ]
  },
  {
   "cell_type": "code",
   "execution_count": null,
   "id": "0e5a9882",
   "metadata": {},
   "outputs": [],
   "source": [
    "def get_entities(input_text):\n",
    "    doc = nlp(input_text)\n",
    "    return [(e.text, e.start_char, e.end_char, e.label_) for e in doc.ents]"
   ]
  },
  {
   "cell_type": "code",
   "execution_count": null,
   "id": "11d41883",
   "metadata": {},
   "outputs": [],
   "source": [
    "test_white_df = white_df[:100]\n",
    "test_white_df[\"named_entities\"] = test_white_df[\"Last name / Surname\"].apply(get_entities)"
   ]
  },
  {
   "cell_type": "code",
   "execution_count": null,
   "id": "14fe6281",
   "metadata": {},
   "outputs": [],
   "source": [
    "test_hispanic_df = hispanic_df[:100]\n",
    "test_hispanic_df[\"named_entities\"] = test_hispanic_df[\"Last name / Surname\"].apply(get_entities)"
   ]
  },
  {
   "cell_type": "code",
   "execution_count": null,
   "id": "979cc4e8",
   "metadata": {},
   "outputs": [],
   "source": [
    "nlp = spacy.load(\"en_core_web_sm\")\n",
    "doc = nlp(\"Jorge Maldonado\")\n",
    "\n",
    "# document level\n",
    "ents = [(e.text, e.start_char, e.end_char, e.label_) for e in doc.ents]\n",
    "print(ents)\n",
    "\n",
    "# token level\n",
    "# ent_san = [doc[0].text, doc[0].ent_iob_, doc[0].ent_type_]\n",
    "# ent_francisco = [doc[1].text, doc[1].ent_iob_, doc[1].ent_type_]\n",
    "# print(ent_san)  # ['San', 'B', 'GPE']\n",
    "# print(ent_francisco)  # ['Francisco', 'I', 'GPE']"
   ]
  },
  {
   "cell_type": "code",
   "execution_count": null,
   "id": "b9fe7436",
   "metadata": {
    "scrolled": true
   },
   "outputs": [],
   "source": [
    "# doc = nlp(u\"John Smith.\")\n",
    "# spacy.displacy.serve(doc, style='ent')"
   ]
  },
  {
   "cell_type": "code",
   "execution_count": null,
   "id": "5294dfc2",
   "metadata": {},
   "outputs": [],
   "source": [
    "first_name_data_dictionary = pd.read_excel(\"data/firstnames.xlsx\", sheet_name=0)\n",
    "first_name_data = pd.read_excel(\"data/firstnames.xlsx\", sheet_name=1)\n",
    "first_name_data = first_name_data.drop(columns=[\"Unnamed: 8\"])\n",
    "first_name_data = first_name_data[: -1]\n",
    "first_name_data[\"firstname\"] = first_name_data[\"firstname\"].apply(lambda x: x.title())"
   ]
  },
  {
   "cell_type": "code",
   "execution_count": null,
   "id": "28234ef5",
   "metadata": {
    "scrolled": true
   },
   "outputs": [],
   "source": [
    "first_name_data.loc[first_name_data[\"pctblack\"]>50][\"obs\"].sum()"
   ]
  },
  {
   "cell_type": "code",
   "execution_count": null,
   "id": "9020c013",
   "metadata": {},
   "outputs": [],
   "source": [
    "first_name_data.loc[(first_name_data[\"obs\"] > 0) & (first_name_data[\"pctaian\"] > .5)].sort_values(by=[\"pctaian\", \"obs\"], ascending=False)"
   ]
  },
  {
   "cell_type": "code",
   "execution_count": null,
   "id": "e338f468",
   "metadata": {},
   "outputs": [],
   "source": [
    "first_name_data.loc[(first_name_data[\"obs\"] > 25) & (first_name_data[\"pctblack\"] > 80)].sort_values(by=[\"pctblack\", \"obs\"], ascending=False)"
   ]
  },
  {
   "cell_type": "code",
   "execution_count": null,
   "id": "d1338517",
   "metadata": {},
   "outputs": [],
   "source": [
    "first_name_data.loc[(first_name_data[\"obs\"] > 500) & (first_name_data[\"pctwhite\"] > 80)].sort_values(by=[\"pctwhite\", \"obs\"], ascending=False)"
   ]
  },
  {
   "cell_type": "code",
   "execution_count": null,
   "id": "9119a431",
   "metadata": {
    "scrolled": true
   },
   "outputs": [],
   "source": [
    "first_name_data.loc[(first_name_data[\"obs\"] > 100) & (first_name_data[\"pcthispanic\"] > 80)].sort_values(by=[\"pcthispanic\", \"obs\"], ascending=False)"
   ]
  },
  {
   "cell_type": "code",
   "execution_count": null,
   "id": "5fd2725a",
   "metadata": {},
   "outputs": [],
   "source": [
    "# Asian and Pacific Islander\n",
    "# Black\n",
    "# Hispanic \n",
    "# American Indian/Alaskan Native \n",
    "# Two or More Races  \n",
    "# White"
   ]
  },
  {
   "cell_type": "code",
   "execution_count": null,
   "id": "9f2ed91b",
   "metadata": {},
   "outputs": [],
   "source": [
    "# TODO: \n",
    "# - come up w/ selection criteria"
   ]
  },
  {
   "cell_type": "code",
   "execution_count": null,
   "id": "1d73d9cf",
   "metadata": {},
   "outputs": [],
   "source": [
    "# STEPS: \n",
    "# 1) create data for each of the races\n"
   ]
  },
  {
   "cell_type": "code",
   "execution_count": null,
   "id": "3cef937f",
   "metadata": {},
   "outputs": [],
   "source": [
    "# Testing Sections: \n",
    "# - only first names\n",
    "# - only last names\n",
    "# - first + last names\n",
    "# - first names embedded in sentences\n",
    "# - last names embedded in sentences\n",
    "# - first + last names embedded in sentences\n",
    "# - all the previous examples without capitalization"
   ]
  },
  {
   "cell_type": "code",
   "execution_count": null,
   "id": "4fda03f0",
   "metadata": {},
   "outputs": [],
   "source": [
    "black_df[\"Number of occurrences among people self-identifying as 'black'\"] = black_df[\"Number of occurrences among people self-identifying as 'black'\"].apply(lambda x: float(x))\n"
   ]
  },
  {
   "cell_type": "code",
   "execution_count": null,
   "id": "d3a42685",
   "metadata": {},
   "outputs": [],
   "source": [
    "sub_black_df = black_df.loc[(black_df[\"% of people with surname self-identifying as \\'black\\'\"] > 80) & (black_df[\"Number of occurrences among people self-identifying as \\'black\\'\"] > 1000)]"
   ]
  },
  {
   "cell_type": "code",
   "execution_count": null,
   "id": "5c84ed26",
   "metadata": {
    "scrolled": true
   },
   "outputs": [],
   "source": [
    "sub_black_df"
   ]
  },
  {
   "cell_type": "code",
   "execution_count": null,
   "id": "713f561d",
   "metadata": {},
   "outputs": [],
   "source": []
  }
 ],
 "metadata": {
  "kernelspec": {
   "display_name": "Python 3",
   "language": "python",
   "name": "python3"
  },
  "language_info": {
   "codemirror_mode": {
    "name": "ipython",
    "version": 3
   },
   "file_extension": ".py",
   "mimetype": "text/x-python",
   "name": "python",
   "nbconvert_exporter": "python",
   "pygments_lexer": "ipython3",
   "version": "3.8.8"
  }
 },
 "nbformat": 4,
 "nbformat_minor": 5
}

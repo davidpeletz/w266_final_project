{
  "nbformat": 4,
  "nbformat_minor": 5,
  "metadata": {
    "kernelspec": {
      "display_name": "Python 3 (ipykernel)",
      "language": "python",
      "name": "python3"
    },
    "language_info": {
      "codemirror_mode": {
        "name": "ipython",
        "version": 3
      },
      "file_extension": ".py",
      "mimetype": "text/x-python",
      "name": "python",
      "nbconvert_exporter": "python",
      "pygments_lexer": "ipython3",
      "version": "3.8.0"
    },
    "colab": {
      "name": "name_data-Copy1.ipynb",
      "provenance": []
    }
  },
  "cells": [
    {
      "cell_type": "code",
      "metadata": {
        "id": "QGXHQ9VIoVO7"
      },
      "source": [
        "!pip install flair -q\n",
        "!pip install transformers -q"
      ],
      "id": "QGXHQ9VIoVO7",
      "execution_count": 1,
      "outputs": []
    },
    {
      "cell_type": "code",
      "metadata": {
        "colab": {
          "resources": {
            "http://localhost:8080/nbextensions/google.colab/files.js": {
              "data": "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",
              "ok": true,
              "headers": [
                [
                  "content-type",
                  "application/javascript"
                ]
              ],
              "status": 200,
              "status_text": ""
            }
          },
          "base_uri": "https://localhost:8080/",
          "height": 72
        },
        "id": "34995b2a",
        "outputId": "2e94b487-9a72-4e0b-cd12-d24698fd4fe5"
      },
      "source": [
        "from google.colab import files\n",
        "import pandas as pd\n",
        "import io\n",
        "from flair.data import Sentence\n",
        "from flair.models import SequenceTagger\n",
        "from transformers import LukeTokenizer, LukeForEntitySpanClassification\n",
        "import timeit\n",
        "\n",
        "uploaded = files.upload()\n"
      ],
      "id": "34995b2a",
      "execution_count": 2,
      "outputs": [
        {
          "output_type": "display_data",
          "data": {
            "text/html": [
              "\n",
              "     <input type=\"file\" id=\"files-e6bb3683-e779-4a48-b66b-c48195e0609b\" name=\"files[]\" multiple disabled\n",
              "        style=\"border:none\" />\n",
              "     <output id=\"result-e6bb3683-e779-4a48-b66b-c48195e0609b\">\n",
              "      Upload widget is only available when the cell has been executed in the\n",
              "      current browser session. Please rerun this cell to enable.\n",
              "      </output>\n",
              "      <script src=\"/nbextensions/google.colab/files.js\"></script> "
            ],
            "text/plain": [
              "<IPython.core.display.HTML object>"
            ]
          },
          "metadata": {}
        },
        {
          "output_type": "stream",
          "name": "stdout",
          "text": [
            "Saving processed_df.csv to processed_df (1).csv\n"
          ]
        }
      ]
    },
    {
      "cell_type": "code",
      "metadata": {
        "id": "MWYte_DUpL0Y"
      },
      "source": [
        "df = pd.read_csv(io.BytesIO(uploaded['processed_df.csv']), index_col=0)"
      ],
      "id": "MWYte_DUpL0Y",
      "execution_count": 3,
      "outputs": []
    },
    {
      "cell_type": "code",
      "metadata": {
        "id": "F59Ah_2Lq2wA",
        "outputId": "19e79256-a762-4a78-901c-00bb1834a95c",
        "colab": {
          "base_uri": "https://localhost:8080/"
        }
      },
      "source": [
        "# load tagger\n",
        "tagger = SequenceTagger.load(\"flair/ner-english-large\")"
      ],
      "id": "F59Ah_2Lq2wA",
      "execution_count": 4,
      "outputs": [
        {
          "output_type": "stream",
          "name": "stdout",
          "text": [
            "2021-10-18 18:32:38,920 loading file /root/.flair/models/ner-english-large/07301f59bb8cb113803be316267f06ddf9243cdbba92a4c8067ef92442d2c574.554244d3476d97501a766a98078421817b14654496b86f2f7bd139dc502a4f29\n"
          ]
        }
      ]
    },
    {
      "cell_type": "code",
      "metadata": {
        "id": "uTz84jOJqle_"
      },
      "source": [
        "\n",
        "def get_flair_result(input_string):\n",
        "  # make example sentence\n",
        "  sentence = Sentence(input_string)\n",
        "\n",
        "  # predict NER tags\n",
        "  tagger.predict(sentence)\n",
        "  total_string = \"\"\n",
        "  for entity in sentence.get_spans('ner'):\n",
        "      total_string += str(entity)\n",
        "      total_string += \"\\n\"\n",
        "  return total_string\n"
      ],
      "id": "uTz84jOJqle_",
      "execution_count": 42,
      "outputs": []
    },
    {
      "cell_type": "code",
      "metadata": {
        "colab": {
          "base_uri": "https://localhost:8080/"
        },
        "id": "pggMB2JB3j0p",
        "outputId": "30a43c5e-3219-4ea8-cc90-c1d0bc17f66f"
      },
      "source": [
        "tokenizer = LukeTokenizer.from_pretrained(\"studio-ousia/luke-large-finetuned-conll-2003\")\n",
        "model = LukeForEntitySpanClassification.from_pretrained(\"studio-ousia/luke-large-finetuned-conll-2003\")"
      ],
      "id": "pggMB2JB3j0p",
      "execution_count": 6,
      "outputs": [
        {
          "output_type": "stream",
          "name": "stderr",
          "text": [
            "Some weights of the model checkpoint at studio-ousia/luke-large-finetuned-conll-2003 were not used when initializing LukeForEntitySpanClassification: ['luke.embeddings.position_ids']\n",
            "- This IS expected if you are initializing LukeForEntitySpanClassification from the checkpoint of a model trained on another task or with another architecture (e.g. initializing a BertForSequenceClassification model from a BertForPreTraining model).\n",
            "- This IS NOT expected if you are initializing LukeForEntitySpanClassification from the checkpoint of a model that you expect to be exactly identical (initializing a BertForSequenceClassification model from a BertForSequenceClassification model).\n"
          ]
        }
      ]
    },
    {
      "cell_type": "code",
      "metadata": {
        "id": "6xGrDFMC0Gzx"
      },
      "source": [
        "def get_num_entities(input_text):\n",
        "  split_text = input_text.split(\"\\n\")\n",
        "  n_entities = 0\n",
        "  for i in split_text:\n",
        "    split_i = i.split(\" \")\n",
        "    n_entities += (len(split_i) - 1)\n",
        "  return n_entities\n",
        "\n",
        "def get_true_num_entities(input_text):\n",
        "  return len((input_text).split(\" \"))\n",
        "\n",
        "def all_person_entities(input_text):\n",
        "  split_text = input_text.split(\"\\n\")\n",
        "  for i in split_text:\n",
        "    if len(i) > 0 and i[-3:] != \"PER\":\n",
        "      return False\n",
        "\n",
        "  return True\n",
        "\n",
        "def get_luke_entity(input_text):\n",
        "  split_text = input_text.split(\" \")\n",
        "  word_start_positions = [0]\n",
        "  word_end_positions = [len(split_text[0])]\n",
        "  for i in split_text[1:]:\n",
        "    word_start_positions.append(word_end_positions[-1] + 1)\n",
        "    word_end_positions.append(len(i) + word_start_positions[-1])\n",
        "\n",
        "  entity_spans = []\n",
        "  for i, start_pos in enumerate(word_start_positions):\n",
        "    for end_pos in word_end_positions[i:]:\n",
        "      entity_spans.append((start_pos, end_pos))\n",
        "\n",
        "  inputs = tokenizer(input_text, entity_spans=entity_spans, return_tensors=\"pt\")\n",
        "  outputs = model(**inputs)\n",
        "  logits = outputs.logits\n",
        "  predicted_class_indices = logits.argmax(-1).squeeze().tolist()\n",
        "  if type(predicted_class_indices) == int:\n",
        "    predicted_class_indices = [predicted_class_indices]\n",
        "  total_string = \"\"\n",
        "  for span, predicted_class_idx in zip(entity_spans, predicted_class_indices):\n",
        "    if predicted_class_idx != 0:\n",
        "      total_string += (input_text[span[0]:span[1]] + \" \" + str(model.config.id2label[predicted_class_idx]) + \"\\n\")\n",
        "  return total_string"
      ],
      "id": "6xGrDFMC0Gzx",
      "execution_count": 7,
      "outputs": []
    },
    {
      "cell_type": "code",
      "metadata": {
        "id": "FCAertKupBFX",
        "outputId": "70a982bc-02a1-4bc3-9867-3c34dea69e02",
        "colab": {
          "base_uri": "https://localhost:8080/"
        }
      },
      "source": [
        "test_df = df[-100:]\n",
        "start = timeit.default_timer()\n",
        "test_df[\"luke\"] = test_df[\"Name\"].apply(lambda x: get_luke_entity(x))\n",
        "stop = timeit.default_timer()\n",
        "print('LUKE Runtime: {} seconds'.format(stop - start))\n",
        "\n",
        "start = timeit.default_timer()\n",
        "test_df[\"flair_results\"] = test_df[\"Name\"].apply(lambda x: get_flair_result(x))\n",
        "stop = timeit.default_timer()\n",
        "print('Flair Runtime: {} seconds'.format(stop - start))\n",
        "\n",
        "test_df[\"num_luke_entities\"] = test_df[\"luke\"].apply(lambda x: get_num_entities(x))\n",
        "test_df[\"true_num_entities\"] = test_df[\"Name\"].apply(lambda x: get_true_num_entities(x))\n",
        "test_df[\"all_person_entities\"] = test_df[\"luke\"].apply(lambda x: all_person_entities(x))"
      ],
      "id": "FCAertKupBFX",
      "execution_count": 8,
      "outputs": [
        {
          "output_type": "stream",
          "name": "stderr",
          "text": [
            "/usr/local/lib/python3.7/dist-packages/ipykernel_launcher.py:3: SettingWithCopyWarning: \n",
            "A value is trying to be set on a copy of a slice from a DataFrame.\n",
            "Try using .loc[row_indexer,col_indexer] = value instead\n",
            "\n",
            "See the caveats in the documentation: https://pandas.pydata.org/pandas-docs/stable/user_guide/indexing.html#returning-a-view-versus-a-copy\n",
            "  This is separate from the ipykernel package so we can avoid doing imports until\n"
          ]
        },
        {
          "output_type": "stream",
          "name": "stdout",
          "text": [
            "LUKE Runtime: 66.99858215800009 seconds\n",
            "{'text': 'mario lucatero', 'start_pos': 0, 'end_pos': 14, 'labels': [PER (1.0)]}\n",
            "{'text': 'mario escutia', 'start_pos': 0, 'end_pos': 13, 'labels': [PER (1.0)]}\n",
            "{'text': 'mario bahena', 'start_pos': 0, 'end_pos': 12, 'labels': [PER (1.0)]}\n",
            "{'text': 'mario uriostegui', 'start_pos': 0, 'end_pos': 16, 'labels': [PER (1.0)]}\n",
            "{'text': 'mario ruvalcaba', 'start_pos': 0, 'end_pos': 15, 'labels': [PER (1.0)]}\n",
            "{'text': 'mario vences', 'start_pos': 0, 'end_pos': 12, 'labels': [PER (1.0)]}\n",
            "{'text': 'mario plascencia', 'start_pos': 0, 'end_pos': 16, 'labels': [PER (1.0)]}\n",
            "{'text': 'mario jimenes', 'start_pos': 0, 'end_pos': 13, 'labels': [PER (1.0)]}\n",
            "{'text': 'mario tinajero', 'start_pos': 0, 'end_pos': 14, 'labels': [PER (1.0)]}\n",
            "{'text': 'mario chairez', 'start_pos': 0, 'end_pos': 13, 'labels': [PER (1.0)]}\n",
            "{'text': 'mario guadarrama', 'start_pos': 0, 'end_pos': 16, 'labels': [PER (1.0)]}\n",
            "{'text': 'mario buenrostro', 'start_pos': 0, 'end_pos': 16, 'labels': [PER (1.0)]}\n",
            "{'text': 'mario rebollar', 'start_pos': 0, 'end_pos': 14, 'labels': [PER (1.0)]}\n",
            "{'text': 'mario osornio', 'start_pos': 0, 'end_pos': 13, 'labels': [PER (1.0)]}\n",
            "{'text': 'mario mandujano', 'start_pos': 0, 'end_pos': 15, 'labels': [PER (1.0)]}\n",
            "{'text': 'mario raygoza', 'start_pos': 0, 'end_pos': 13, 'labels': [PER (1.0)]}\n",
            "{'text': 'mario valdovinos', 'start_pos': 0, 'end_pos': 16, 'labels': [PER (1.0)]}\n",
            "{'text': 'mario desantiago', 'start_pos': 0, 'end_pos': 16, 'labels': [PER (1.0)]}\n",
            "{'text': 'mario aburto', 'start_pos': 0, 'end_pos': 12, 'labels': [PER (1.0)]}\n",
            "{'text': 'mario ceja', 'start_pos': 0, 'end_pos': 10, 'labels': [PER (1.0)]}\n",
            "{'text': 'mario resendiz', 'start_pos': 0, 'end_pos': 14, 'labels': [PER (1.0)]}\n",
            "{'text': 'mario castrejon', 'start_pos': 0, 'end_pos': 15, 'labels': [PER (1.0)]}\n",
            "{'text': 'mario melgoza', 'start_pos': 0, 'end_pos': 13, 'labels': [PER (1.0)]}\n",
            "{'text': 'mario amezquita', 'start_pos': 0, 'end_pos': 15, 'labels': [PER (1.0)]}\n",
            "{'text': 'mario bucio', 'start_pos': 0, 'end_pos': 11, 'labels': [PER (1.0)]}\n",
            "{'text': 'mario ambriz', 'start_pos': 0, 'end_pos': 12, 'labels': [PER (1.0)]}\n",
            "{'text': 'mario chavarin', 'start_pos': 0, 'end_pos': 14, 'labels': [PER (1.0)]}\n",
            "{'text': 'mario monsivais', 'start_pos': 0, 'end_pos': 15, 'labels': [PER (1.0)]}\n",
            "{'text': 'mario lupercio', 'start_pos': 0, 'end_pos': 14, 'labels': [PER (1.0)]}\n",
            "{'text': 'mario ramires', 'start_pos': 0, 'end_pos': 13, 'labels': [PER (1.0)]}\n",
            "{'text': 'mario cendejas', 'start_pos': 0, 'end_pos': 14, 'labels': [PER (1.0)]}\n",
            "{'text': 'mario castelan', 'start_pos': 0, 'end_pos': 14, 'labels': [PER (1.0)]}\n",
            "{'text': 'mario huezo', 'start_pos': 0, 'end_pos': 11, 'labels': [PER (1.0)]}\n",
            "{'text': 'mario montesinos', 'start_pos': 0, 'end_pos': 16, 'labels': [PER (1.0)]}\n",
            "{'text': 'mario zendejas', 'start_pos': 0, 'end_pos': 14, 'labels': [PER (1.0)]}\n",
            "{'text': 'mario arzate', 'start_pos': 0, 'end_pos': 12, 'labels': [PER (1.0)]}\n",
            "{'text': 'mario pasillas', 'start_pos': 0, 'end_pos': 14, 'labels': [PER (1.0)]}\n",
            "{'text': 'mario monarrez', 'start_pos': 0, 'end_pos': 14, 'labels': [PER (1.0)]}\n",
            "{'text': 'mario umanzor', 'start_pos': 0, 'end_pos': 13, 'labels': [PER (1.0)]}\n",
            "{'text': 'mario higareda', 'start_pos': 0, 'end_pos': 14, 'labels': [PER (1.0)]}\n",
            "{'text': 'mario castruita', 'start_pos': 0, 'end_pos': 15, 'labels': [PER (1.0)]}\n",
            "{'text': 'mario jaimes', 'start_pos': 0, 'end_pos': 12, 'labels': [PER (1.0)]}\n",
            "{'text': 'mario amezcua', 'start_pos': 0, 'end_pos': 13, 'labels': [PER (1.0)]}\n",
            "{'text': 'mario oceguera', 'start_pos': 0, 'end_pos': 14, 'labels': [PER (1.0)]}\n",
            "{'text': 'mario lozoya', 'start_pos': 0, 'end_pos': 12, 'labels': [PER (1.0)]}\n",
            "{'text': 'mario avitia', 'start_pos': 0, 'end_pos': 12, 'labels': [PER (1.0)]}\n",
            "{'text': 'mario alejandre', 'start_pos': 0, 'end_pos': 15, 'labels': [PER (0.9999)]}\n",
            "{'text': 'mario brambila', 'start_pos': 0, 'end_pos': 14, 'labels': [PER (1.0)]}\n",
            "{'text': 'mario cazarez', 'start_pos': 0, 'end_pos': 13, 'labels': [PER (1.0)]}\n",
            "{'text': 'mario chaidez', 'start_pos': 0, 'end_pos': 13, 'labels': [PER (1.0)]}\n",
            "{'text': 'mario villeda', 'start_pos': 0, 'end_pos': 13, 'labels': [PER (1.0)]}\n",
            "{'text': 'mario barajas', 'start_pos': 0, 'end_pos': 13, 'labels': [PER (1.0)]}\n",
            "{'text': 'mario guaman', 'start_pos': 0, 'end_pos': 12, 'labels': [PER (1.0)]}\n",
            "{'text': 'mario', 'start_pos': 0, 'end_pos': 5, 'labels': [PER (0.8557)]}\n",
            "{'text': 'mario iniguez', 'start_pos': 0, 'end_pos': 13, 'labels': [PER (1.0)]}\n",
            "{'text': 'mario trevizo', 'start_pos': 0, 'end_pos': 13, 'labels': [PER (1.0)]}\n",
            "{'text': 'mario villagrana', 'start_pos': 0, 'end_pos': 16, 'labels': [PER (1.0)]}\n",
            "{'text': 'mario delangel', 'start_pos': 0, 'end_pos': 14, 'labels': [PER (1.0)]}\n",
            "{'text': 'mario aispuro', 'start_pos': 0, 'end_pos': 13, 'labels': [PER (1.0)]}\n",
            "{'text': 'mario quezada', 'start_pos': 0, 'end_pos': 13, 'labels': [PER (1.0)]}\n",
            "{'text': 'mario banuelos', 'start_pos': 0, 'end_pos': 14, 'labels': [PER (1.0)]}\n",
            "{'text': 'mario ledezma', 'start_pos': 0, 'end_pos': 13, 'labels': [PER (1.0)]}\n",
            "{'text': 'mario menjivar', 'start_pos': 0, 'end_pos': 14, 'labels': [PER (1.0)]}\n",
            "{'text': 'mario galeana', 'start_pos': 0, 'end_pos': 13, 'labels': [PER (1.0)]}\n",
            "{'text': 'mario jovel', 'start_pos': 0, 'end_pos': 11, 'labels': [PER (1.0)]}\n",
            "{'text': 'mario vidrio', 'start_pos': 0, 'end_pos': 12, 'labels': [PER (1.0)]}\n",
            "{'text': 'mario espinal', 'start_pos': 0, 'end_pos': 13, 'labels': [PER (1.0)]}\n",
            "{'text': 'mario lagunas', 'start_pos': 0, 'end_pos': 13, 'labels': [PER (1.0)]}\n",
            "{'text': 'mario topete', 'start_pos': 0, 'end_pos': 12, 'labels': [PER (1.0)]}\n",
            "{'text': 'mario reynaga', 'start_pos': 0, 'end_pos': 13, 'labels': [PER (1.0)]}\n",
            "{'text': 'mario santibanez', 'start_pos': 0, 'end_pos': 16, 'labels': [PER (1.0)]}\n",
            "{'text': 'mario deharo', 'start_pos': 0, 'end_pos': 12, 'labels': [PER (1.0)]}\n",
            "{'text': 'mario argueta', 'start_pos': 0, 'end_pos': 13, 'labels': [PER (1.0)]}\n",
            "{'text': 'mario landeros', 'start_pos': 0, 'end_pos': 14, 'labels': [PER (1.0)]}\n",
            "{'text': 'mario grullon', 'start_pos': 0, 'end_pos': 13, 'labels': [PER (1.0)]}\n",
            "{'text': 'mario licea', 'start_pos': 0, 'end_pos': 11, 'labels': [PER (1.0)]}\n",
            "{'text': 'mario avalos', 'start_pos': 0, 'end_pos': 12, 'labels': [PER (0.9999)]}\n",
            "{'text': 'mario covarrubias', 'start_pos': 0, 'end_pos': 17, 'labels': [PER (1.0)]}\n",
            "{'text': 'mario anguiano', 'start_pos': 0, 'end_pos': 14, 'labels': [PER (1.0)]}\n",
            "{'text': 'mario delgadillo', 'start_pos': 0, 'end_pos': 16, 'labels': [PER (1.0)]}\n",
            "{'text': 'mario gonsalez', 'start_pos': 0, 'end_pos': 14, 'labels': [PER (1.0)]}\n",
            "{'text': 'mario delreal', 'start_pos': 0, 'end_pos': 13, 'labels': [PER (1.0)]}\n",
            "{'text': 'mario liriano', 'start_pos': 0, 'end_pos': 13, 'labels': [PER (1.0)]}\n",
            "{'text': 'mario dorantes', 'start_pos': 0, 'end_pos': 14, 'labels': [PER (1.0)]}\n",
            "{'text': 'mario iraheta', 'start_pos': 0, 'end_pos': 13, 'labels': [PER (1.0)]}\n",
            "{'text': 'mario guardado', 'start_pos': 0, 'end_pos': 14, 'labels': [PER (1.0)]}\n",
            "{'text': 'mario esqueda', 'start_pos': 0, 'end_pos': 13, 'labels': [PER (1.0)]}\n",
            "{'text': 'mario sorto', 'start_pos': 0, 'end_pos': 11, 'labels': [PER (1.0)]}\n",
            "{'text': 'mario landaverde', 'start_pos': 0, 'end_pos': 16, 'labels': [PER (1.0)]}\n",
            "{'text': 'mario zazueta', 'start_pos': 0, 'end_pos': 13, 'labels': [PER (1.0)]}\n",
            "{'text': 'mario becerril', 'start_pos': 0, 'end_pos': 14, 'labels': [PER (1.0)]}\n",
            "{'text': 'mario moctezuma', 'start_pos': 0, 'end_pos': 15, 'labels': [PER (1.0)]}\n",
            "{'text': 'mario saucedo', 'start_pos': 0, 'end_pos': 13, 'labels': [PER (1.0)]}\n",
            "{'text': 'mario barragan', 'start_pos': 0, 'end_pos': 14, 'labels': [PER (1.0)]}\n",
            "{'text': 'mario gaytan', 'start_pos': 0, 'end_pos': 12, 'labels': [PER (1.0)]}\n",
            "{'text': 'mario tejeda', 'start_pos': 0, 'end_pos': 12, 'labels': [PER (1.0)]}\n",
            "{'text': 'mario tavarez', 'start_pos': 0, 'end_pos': 13, 'labels': [PER (1.0)]}\n",
            "{'text': 'mario taveras', 'start_pos': 0, 'end_pos': 13, 'labels': [PER (1.0)]}\n",
            "{'text': 'mario villatoro', 'start_pos': 0, 'end_pos': 15, 'labels': [PER (1.0)]}\n",
            "{'text': 'mario gudino', 'start_pos': 0, 'end_pos': 12, 'labels': [PER (1.0)]}\n",
            "Flair Runtime: 35.490668215999904 seconds\n"
          ]
        },
        {
          "output_type": "stream",
          "name": "stderr",
          "text": [
            "/usr/local/lib/python3.7/dist-packages/ipykernel_launcher.py:8: SettingWithCopyWarning: \n",
            "A value is trying to be set on a copy of a slice from a DataFrame.\n",
            "Try using .loc[row_indexer,col_indexer] = value instead\n",
            "\n",
            "See the caveats in the documentation: https://pandas.pydata.org/pandas-docs/stable/user_guide/indexing.html#returning-a-view-versus-a-copy\n",
            "  \n",
            "/usr/local/lib/python3.7/dist-packages/ipykernel_launcher.py:12: SettingWithCopyWarning: \n",
            "A value is trying to be set on a copy of a slice from a DataFrame.\n",
            "Try using .loc[row_indexer,col_indexer] = value instead\n",
            "\n",
            "See the caveats in the documentation: https://pandas.pydata.org/pandas-docs/stable/user_guide/indexing.html#returning-a-view-versus-a-copy\n",
            "  if sys.path[0] == '':\n",
            "/usr/local/lib/python3.7/dist-packages/ipykernel_launcher.py:13: SettingWithCopyWarning: \n",
            "A value is trying to be set on a copy of a slice from a DataFrame.\n",
            "Try using .loc[row_indexer,col_indexer] = value instead\n",
            "\n",
            "See the caveats in the documentation: https://pandas.pydata.org/pandas-docs/stable/user_guide/indexing.html#returning-a-view-versus-a-copy\n",
            "  del sys.path[0]\n",
            "/usr/local/lib/python3.7/dist-packages/ipykernel_launcher.py:14: SettingWithCopyWarning: \n",
            "A value is trying to be set on a copy of a slice from a DataFrame.\n",
            "Try using .loc[row_indexer,col_indexer] = value instead\n",
            "\n",
            "See the caveats in the documentation: https://pandas.pydata.org/pandas-docs/stable/user_guide/indexing.html#returning-a-view-versus-a-copy\n",
            "  \n"
          ]
        }
      ]
    },
    {
      "cell_type": "code",
      "metadata": {
        "id": "ESQC8MEnqqwS",
        "outputId": "00bab1a2-d7d4-4a79-b0ea-ab00db63d5ad",
        "colab": {
          "base_uri": "https://localhost:8080/"
        }
      },
      "source": [
        ""
      ],
      "id": "ESQC8MEnqqwS",
      "execution_count": 41,
      "outputs": [
        {
          "output_type": "execute_result",
          "data": {
            "text/plain": [
              "['O',\n",
              " 'B-PER',\n",
              " 'E-PER',\n",
              " 'O',\n",
              " 'O',\n",
              " 'O',\n",
              " 'O',\n",
              " 'S-PER',\n",
              " 'O',\n",
              " 'O',\n",
              " 'B-PER',\n",
              " 'I-PER',\n",
              " 'E-PER',\n",
              " 'O',\n",
              " 'O',\n",
              " 'O',\n",
              " 'O',\n",
              " 'O',\n",
              " 'S-PER']"
            ]
          },
          "metadata": {},
          "execution_count": 41
        }
      ]
    },
    {
      "cell_type": "code",
      "metadata": {
        "id": "MjbhBzRCqWhZ"
      },
      "source": [
        "def get_flair_entities(input_string):\n",
        "  sentence = Sentence(input_string)\n",
        "\n",
        "  # predict NER tags\n",
        "  tagger.predict(sentence)\n",
        "  sentence_length = len(sentence)\n",
        "  values = [\"O\"] * len(sentence)\n",
        "  total_string = \"\"\n",
        "  tagged_string = sentence.to_tagged_string()\n",
        "  true_index = 0\n",
        "  count_entities = 0\n",
        "  for word in (tagged_string.split(\" \")): \n",
        "    if word[0] == \"<\" and word[-1] == \">\":\n",
        "      entity_type = word[1:-1]\n",
        "      if entity_type ==\"S-PER\":\n",
        "        entity_type = \"B-PER\"\n",
        "      if entity_type ==\"E-PER\":\n",
        "        entity_type = \"I-PER\"\n",
        "\n",
        "      values[true_index-1-count_entities] = entity_type\n",
        "      count_entities += 1\n",
        "    true_index += 1\n",
        "  return values\n"
      ],
      "id": "MjbhBzRCqWhZ",
      "execution_count": 49,
      "outputs": []
    },
    {
      "cell_type": "code",
      "metadata": {
        "id": "XeQJhlKkv_j2",
        "outputId": "8fa2e01b-68b9-48c1-8eb1-a3fab6de0d6d",
        "colab": {
          "base_uri": "https://localhost:8080/"
        }
      },
      "source": [
        "get_flair_entities(\"hello George Johnson. I ran into Steve yesterday. Steven Minninger Peletz was smart. thanks again\")"
      ],
      "id": "XeQJhlKkv_j2",
      "execution_count": 51,
      "outputs": [
        {
          "output_type": "execute_result",
          "data": {
            "text/plain": [
              "['O',\n",
              " 'B-PER',\n",
              " 'I-PER',\n",
              " 'O',\n",
              " 'O',\n",
              " 'O',\n",
              " 'O',\n",
              " 'B-PER',\n",
              " 'O',\n",
              " 'O',\n",
              " 'B-PER',\n",
              " 'I-PER',\n",
              " 'I-PER',\n",
              " 'O',\n",
              " 'O',\n",
              " 'O',\n",
              " 'O',\n",
              " 'O']"
            ]
          },
          "metadata": {},
          "execution_count": 51
        }
      ]
    },
    {
      "cell_type": "code",
      "metadata": {
        "id": "_v55tLOYpVHt",
        "outputId": "568fbe81-0a1b-485d-c175-b36a62fbe7f2",
        "colab": {
          "base_uri": "https://localhost:8080/",
          "height": 419
        }
      },
      "source": [
        "test_df"
      ],
      "id": "_v55tLOYpVHt",
      "execution_count": 10,
      "outputs": [
        {
          "output_type": "execute_result",
          "data": {
            "text/html": [
              "<div>\n",
              "<style scoped>\n",
              "    .dataframe tbody tr th:only-of-type {\n",
              "        vertical-align: middle;\n",
              "    }\n",
              "\n",
              "    .dataframe tbody tr th {\n",
              "        vertical-align: top;\n",
              "    }\n",
              "\n",
              "    .dataframe thead th {\n",
              "        text-align: right;\n",
              "    }\n",
              "</style>\n",
              "<table border=\"1\" class=\"dataframe\">\n",
              "  <thead>\n",
              "    <tr style=\"text-align: right;\">\n",
              "      <th></th>\n",
              "      <th>Name</th>\n",
              "      <th>Race</th>\n",
              "      <th>luke</th>\n",
              "      <th>flair_results</th>\n",
              "      <th>num_luke_entities</th>\n",
              "      <th>true_num_entities</th>\n",
              "      <th>all_person_entities</th>\n",
              "    </tr>\n",
              "  </thead>\n",
              "  <tbody>\n",
              "    <tr>\n",
              "      <th>25328</th>\n",
              "      <td>mario lucatero went to the store.</td>\n",
              "      <td>Hispanic</td>\n",
              "      <td></td>\n",
              "      <td>Span [1,2]: \"mario lucatero\"   [− Labels: PER ...</td>\n",
              "      <td>0</td>\n",
              "      <td>6</td>\n",
              "      <td>True</td>\n",
              "    </tr>\n",
              "    <tr>\n",
              "      <th>25329</th>\n",
              "      <td>mario escutia went to the store.</td>\n",
              "      <td>Hispanic</td>\n",
              "      <td></td>\n",
              "      <td>Span [1,2]: \"mario escutia\"   [− Labels: PER (...</td>\n",
              "      <td>0</td>\n",
              "      <td>6</td>\n",
              "      <td>True</td>\n",
              "    </tr>\n",
              "    <tr>\n",
              "      <th>25330</th>\n",
              "      <td>mario bahena went to the store.</td>\n",
              "      <td>Hispanic</td>\n",
              "      <td></td>\n",
              "      <td>Span [1,2]: \"mario bahena\"   [− Labels: PER (1...</td>\n",
              "      <td>0</td>\n",
              "      <td>6</td>\n",
              "      <td>True</td>\n",
              "    </tr>\n",
              "    <tr>\n",
              "      <th>25331</th>\n",
              "      <td>mario uriostegui went to the store.</td>\n",
              "      <td>Hispanic</td>\n",
              "      <td></td>\n",
              "      <td>Span [1,2]: \"mario uriostegui\"   [− Labels: PE...</td>\n",
              "      <td>0</td>\n",
              "      <td>6</td>\n",
              "      <td>True</td>\n",
              "    </tr>\n",
              "    <tr>\n",
              "      <th>25332</th>\n",
              "      <td>mario ruvalcaba went to the store.</td>\n",
              "      <td>Hispanic</td>\n",
              "      <td></td>\n",
              "      <td>Span [1,2]: \"mario ruvalcaba\"   [− Labels: PER...</td>\n",
              "      <td>0</td>\n",
              "      <td>6</td>\n",
              "      <td>True</td>\n",
              "    </tr>\n",
              "    <tr>\n",
              "      <th>...</th>\n",
              "      <td>...</td>\n",
              "      <td>...</td>\n",
              "      <td>...</td>\n",
              "      <td>...</td>\n",
              "      <td>...</td>\n",
              "      <td>...</td>\n",
              "      <td>...</td>\n",
              "    </tr>\n",
              "    <tr>\n",
              "      <th>25423</th>\n",
              "      <td>mario tejeda went to the store.</td>\n",
              "      <td>Hispanic</td>\n",
              "      <td></td>\n",
              "      <td>Span [1,2]: \"mario tejeda\"   [− Labels: PER (1...</td>\n",
              "      <td>0</td>\n",
              "      <td>6</td>\n",
              "      <td>True</td>\n",
              "    </tr>\n",
              "    <tr>\n",
              "      <th>25424</th>\n",
              "      <td>mario tavarez went to the store.</td>\n",
              "      <td>Hispanic</td>\n",
              "      <td></td>\n",
              "      <td>Span [1,2]: \"mario tavarez\"   [− Labels: PER (...</td>\n",
              "      <td>0</td>\n",
              "      <td>6</td>\n",
              "      <td>True</td>\n",
              "    </tr>\n",
              "    <tr>\n",
              "      <th>25425</th>\n",
              "      <td>mario taveras went to the store.</td>\n",
              "      <td>Hispanic</td>\n",
              "      <td></td>\n",
              "      <td>Span [1,2]: \"mario taveras\"   [− Labels: PER (...</td>\n",
              "      <td>0</td>\n",
              "      <td>6</td>\n",
              "      <td>True</td>\n",
              "    </tr>\n",
              "    <tr>\n",
              "      <th>25426</th>\n",
              "      <td>mario villatoro went to the store.</td>\n",
              "      <td>Hispanic</td>\n",
              "      <td></td>\n",
              "      <td>Span [1,2]: \"mario villatoro\"   [− Labels: PER...</td>\n",
              "      <td>0</td>\n",
              "      <td>6</td>\n",
              "      <td>True</td>\n",
              "    </tr>\n",
              "    <tr>\n",
              "      <th>25427</th>\n",
              "      <td>mario gudino went to the store.</td>\n",
              "      <td>Hispanic</td>\n",
              "      <td></td>\n",
              "      <td>Span [1,2]: \"mario gudino\"   [− Labels: PER (1...</td>\n",
              "      <td>0</td>\n",
              "      <td>6</td>\n",
              "      <td>True</td>\n",
              "    </tr>\n",
              "  </tbody>\n",
              "</table>\n",
              "<p>100 rows × 7 columns</p>\n",
              "</div>"
            ],
            "text/plain": [
              "                                      Name  ... all_person_entities\n",
              "25328    mario lucatero went to the store.  ...                True\n",
              "25329     mario escutia went to the store.  ...                True\n",
              "25330      mario bahena went to the store.  ...                True\n",
              "25331  mario uriostegui went to the store.  ...                True\n",
              "25332   mario ruvalcaba went to the store.  ...                True\n",
              "...                                    ...  ...                 ...\n",
              "25423      mario tejeda went to the store.  ...                True\n",
              "25424     mario tavarez went to the store.  ...                True\n",
              "25425     mario taveras went to the store.  ...                True\n",
              "25426   mario villatoro went to the store.  ...                True\n",
              "25427      mario gudino went to the store.  ...                True\n",
              "\n",
              "[100 rows x 7 columns]"
            ]
          },
          "metadata": {},
          "execution_count": 10
        }
      ]
    },
    {
      "cell_type": "code",
      "metadata": {
        "id": "9jrJPchCza-U"
      },
      "source": [
        "# start = timeit.default_timer()\n",
        "# df[\"luke\"] = df[\"Name\"].apply(lambda x: get_luke_entity(x))\n",
        "# stop = timeit.default_timer()\n",
        "# print('LUKE Runtime: {} seconds'.format(stop - start))\n",
        "\n",
        "# start = timeit.default_timer()\n",
        "# df[\"flair_results\"] = df[\"Name\"].apply(lambda x: get_flair_result(x))\n",
        "# stop = timeit.default_timer()\n",
        "# print('Flair Runtime: {} seconds'.format(stop - start))\n",
        "\n",
        "# df[\"num_luke_entities\"] = df[\"luke\"].apply(lambda x: get_num_entities(x))\n",
        "# df[\"true_num_entities\"] = df[\"Name\"].apply(lambda x: get_true_num_entities(x))\n",
        "# df[\"all_person_entities\"] = df[\"luke\"].apply(lambda x: all_person_entities(x))"
      ],
      "id": "9jrJPchCza-U",
      "execution_count": 11,
      "outputs": []
    },
    {
      "cell_type": "code",
      "metadata": {
        "id": "iqBoFJAo3dFf"
      },
      "source": [
        "example_sentences = [\"I spoke with {}\", \"{} went to the store\"]"
      ],
      "id": "iqBoFJAo3dFf",
      "execution_count": 12,
      "outputs": []
    },
    {
      "cell_type": "code",
      "metadata": {
        "id": "0PWwN2NG3EGw"
      },
      "source": [
        "# df.to_csv(\"df_with_ner.csv\")\n",
        "# files.download('df_with_ner.csv')\n"
      ],
      "id": "0PWwN2NG3EGw",
      "execution_count": 13,
      "outputs": []
    },
    {
      "cell_type": "code",
      "metadata": {
        "id": "wuBIDxbLEZph"
      },
      "source": [
        "# df.loc[(df[\"all_person_entities\"]!= True) | (df[\"true_num_entities\"] != df[\"num_luke_entities\"])][\"Race\"].value_counts()"
      ],
      "id": "wuBIDxbLEZph",
      "execution_count": 14,
      "outputs": []
    },
    {
      "cell_type": "code",
      "metadata": {
        "id": "d1XmnqWVEEni"
      },
      "source": [
        "# !pip install datasets\n",
        "# from datasets import load_dataset\n",
        "# dataset = load_dataset(\n",
        "#    'conll2003')\n",
        "\n"
      ],
      "id": "d1XmnqWVEEni",
      "execution_count": 15,
      "outputs": []
    },
    {
      "cell_type": "markdown",
      "metadata": {
        "id": "1ofF3y3lJRML"
      },
      "source": [
        "# Scratch Code: "
      ],
      "id": "1ofF3y3lJRML"
    },
    {
      "cell_type": "code",
      "metadata": {
        "id": "25Nt_H5QJQpW"
      },
      "source": [
        "# # load tagger\n",
        "# tagger = SequenceTagger.load(\"flair/ner-english\")\n",
        "\n",
        "# # make example sentence\n",
        "# sentence = Sentence(\"George Washington went to Washington\")\n",
        "\n",
        "# # predict NER tags\n",
        "# tagger.predict(sentence)\n",
        "\n",
        "# # print sentence\n",
        "# print(sentence)\n",
        "\n",
        "# # print predicted NER spans\n",
        "# print('The following NER tags are found:')\n",
        "# # iterate over entities and print\n",
        "# for entity in sentence.get_spans('ner'):\n",
        "#     print(entity)\n"
      ],
      "id": "25Nt_H5QJQpW",
      "execution_count": 16,
      "outputs": []
    },
    {
      "cell_type": "code",
      "metadata": {
        "id": "SHFssy4tJWXq"
      },
      "source": [
        "\n",
        "# text = \"Beyoncé lives in Los Angeles\"\n",
        "\n",
        "# # List all possible entity spans in the text\n",
        "# word_start_positions = [0, 8, 14, 17, 21]  # character-based start positions of word tokens\n",
        "# word_end_positions = [7, 13, 16, 20, 28]  # character-based end positions of word tokens\n",
        "# entity_spans = []\n",
        "# for i, start_pos in enumerate(word_start_positions):\n",
        "#   for end_pos in word_end_positions[i:]:\n",
        "#     entity_spans.append((start_pos, end_pos))\n",
        "\n",
        "# inputs = tokenizer(text, entity_spans=entity_spans, return_tensors=\"pt\")\n",
        "# outputs = model(**inputs)\n",
        "# logits = outputs.logits\n",
        "# predicted_class_indices = logits.argmax(-1).squeeze().tolist()\n",
        "# for span, predicted_class_idx in zip(entity_spans, predicted_class_indices):\n",
        "#   if predicted_class_idx != 0:\n",
        "#     print(text[span[0]:span[1]], model.config.id2label[predicted_class_idx])\n"
      ],
      "id": "SHFssy4tJWXq",
      "execution_count": 17,
      "outputs": []
    }
  ]
}